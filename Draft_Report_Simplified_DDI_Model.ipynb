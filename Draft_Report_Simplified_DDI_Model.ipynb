{
  "cells": [
    {
      "cell_type": "markdown",
      "metadata": {
        "id": "YROt7YuUk7cF"
      },
      "source": [
        "# Introduction\n",
        "\n",
        "##### Problem Background\n",
        "\n",
        "\n",
        "When multiple drugs are used in treatment of a patient, there is a possibility drugs interact, potentially causing harmful effects.\n",
        "To reduce drug development time and uncover negative interactions before human trials, clinicians need a way to predict these drug interactions. This problem is combinatorially difficult due to the massive number of drugs, variations in drug features such as molecular structure, and the range of potential interactions. By using neural networks, clinicians could uncover patterns in drug interaction, enabling better understanding of drug functionality on the body. This understanding could not only discover negative drug interactions, but also secondary use-cases of drugs for treatment.\n",
        "\n",
        "\n",
        "Traditional model architectures, such as proposed by $Rohani^{1}$ utilize drug-similarity matrices of features such as molecular substructure to predict interactions. These matrices are sub-selected for the most informative and fused into a singular matrix as input for a neural network. These approaches omit critical information about the kind of interactions between drugs, and simply discover any interaction. For clinicians to properly understand drug functionality and safety of use, they must be able to predict the severity and type of drug interactions.\n",
        "\n",
        "\n",
        "Graph Neural Networks have recently been employed to encode and explore various drug interaction types. By encoding drugs as nodes, and interaction types as edges, models can better understand how drugs interact with one another. However, generating graph representations of drug interactions is challenging, particularly in how to combine various features from various sources and how to generate embeddings. $Lin et al^{2}$, generates a graph structure from various features, but only predicts the presence of an interaction from node locality - ignoring the semantic representation of features.\n",
        "\n",
        "\n",
        "##### Paper Explanation\n",
        "\n",
        "$Al-Rabeah^{3}$ improves upon both the traditional and GNN approaches by utilizing graph networks of various features to generate embeddings for feeding into a neural network for classification. The aim is to integrate both the similarity matrices of previous approaches with GNN embeddings of multiple featuresets, in order to represent a heterogeneous network for predicting the types of drug-drug interactions.\n",
        "\n",
        "\n",
        "The work utilizes four feature matrices (Chemical structure, Target, Enzyme, and Pathway) as attributes for nodes representing drugs via similarity matrices, with edges being the drug-drug interaction. A graph is constructed for each feature matrix, and each graph is then used to generate an embedding matrix with a vector for each drug and interaction type. This is done via a random walk from the drug node utilizing edges of the given interaction type to form a node sequence, which is then used to learn embeddings. For each drug pair, the drug embedding vectors are element-wise multiplied with each other to represent drug-drug pairs. These vectors are then fed into the corresponding neural network, one for each graph, using a softmax to generate a probability vector over all event types. These probabilities are then averaged to produce a final prediction vector.\n",
        "\n",
        "\n",
        "The work tested using all subsets of the feature matrices, with the best performance from using all four matrices gathered. The results, achieving 0.9206, 0.9992, 0.9717, 0.8579, and 0.8259 Accuracy, AUC, AUPR, F1, and recall scores respectively, outperformed many recent DDI works. This showed significant improvement over traditional Neural Network approaches, such as CNN-DDI by $Zhang^{4}$. While other GNN approaches, such as the novel KGNN, achieved better performance in some metrics such as F1 score - their analysis was over individual datasets and neglected several features. From this, the GNN-DDI architecture showed exceptional performance as it was faced with multiple-datasets, indicating strong usage across various features.\n",
        "\n",
        "\n",
        "The work of $Al-Rabeah^{3}$ showed the strength of combining various feature sets for generating neural network inputs. Likewise, the paper exemplified the utility in combining multiple components of past approaches (GNN and fusion of multiple similarity matrix results) to produce a robust architecture performant over features from multiple datasets.\n",
        "\n"
      ]
    },
    {
      "cell_type": "markdown",
      "metadata": {
        "id": "bRin3Tu0k7cI"
      },
      "source": [
        "# Scope of Reproducibility\n",
        "\n",
        "All of our efforts, including this notebook, pre-computed models, processed data, etc. are located within [our teams Github repository](https://github.com/NealRyan/Drug-drug-interaction-modeling/blob/main). For our project, we utilized the [papers authors code repository](https://github.com/Mohammad-Hussain95/GNN_DDI/tree/main/).\n",
        "\n",
        "The original code was written in Tensorflow and was extremely hard to understand and modify, using obscure, lengthy matrix transformations to perform general operations. We first re-implemented the entire code repository of the paper using PyTorch.  By re-writing in PyTorch, we found it easier to implement various modifications/ablations within the original codebase. This is the extent of our work for the initial draft.\n",
        "\n",
        "\n",
        "With the Pytorch code, we plan to test the below hypotheses and ablations in our final report:\n",
        "\n",
        "\n",
        "1. Hyperparameter Tuning.\n",
        "   By varying the below hyperparameters, we attempt to achieve a higher performance from the model. The paper performs minimal hyperparameter tuning, so we anticipate minor tuning to significantly improve performance. In addition, the original paper uses the Adam optimizer which is relatively fast to converge on local minima. By optimizing parameters, we could achieve a better minimum for training our models.\n",
        "   - Layer size\n",
        "       - Varying the sizes of intermediary layers can constrain the model's performance to fit to training data. By reducing intermediary layer size, we can have a looser bias to the training set. This could be used to lower dropout rate, enabling faster training without sacrificing model generalization.\n",
        "   - Number of dense layers\n",
        "       - The dataset utilized by the paper is unbalanced leading to underfitting. We anticipate increasing the number of dense layers (2) within the neural networks will result in a more biased model - which could better fit the intricacies of less prevalent drug-drug interactions.\n",
        "   - Dropout rate\n",
        "       - The paper uses a dropout rate of 0.3 to inject random noise and reduce bias. By modifying dropout rate, alongside changes to layer size, we anticipate the same model generalization with improved fitting to training data.\n",
        "2. Removing Dropout, and replacing with optimizer weight decay.\n",
        "   Dropout introduces randomness into the network, while weight decay promotes a balanced model by regulating heavy weights. We anticipate weight decay to more effectively account for relations in similarity matrices, particularly for interactions less present in the training set, leading to a higher CV score.\n",
        "3. Replacing the Adam optimizer with SGD.\n",
        "   The paper did not tune the parameters of the Adam optimizer, which likely led to convergence on a suboptimal minima. SGD is less likely to converge on these minima, and should result in better generalizability than untuned Adam.\n",
        "4. Removal of dropout layers.\n",
        "   The proposed GNN relies on two hidden-layer 0.3 rate dropout layers to prevent overfitting. We will test the removal of each hidden layer, as well as both layers. By removing these layers, we can evaluate how tightly model overfits to the similarity matrices.\n",
        "5. Removal of early stopping.\n",
        "   The code utilizes early stopping to prevent model overfitting if performance doesn’t improve in 10 epochs. We will remove this limitation, and attempt to overfit our network while retaining dropout. This will help evaluate how injected noise impacts performance.\n",
        "6. Combining of 4 feedforward networks into 1.\n",
        "   The paper uses 4 feedforward networks to evaluate each property type independently and aggregates the results, however this does not capture any interactions between property types. We will test concatenating the feature vectors from each property type and using a single feedforward network with this feature vector.\n",
        "\n"
      ]
    },
    {
      "cell_type": "markdown",
      "metadata": {
        "id": "huf0EWW7k7cI"
      },
      "source": [
        "# Methodology\n",
        "\n",
        "Directly below we cover our data and how we processed it. Further in the notebook (near the relevant code cells) we explain our models, model training, and evaluation."
      ]
    },
    {
      "cell_type": "markdown",
      "metadata": {
        "id": "AKUA6cLJk7cJ"
      },
      "source": [
        "## Data\n",
        "\n",
        "### Data Descriptions\n",
        "\n",
        "The paper utilizes four 2-D feature matrices of 572 drugs, derived from different databases:\n",
        "* Chemical Structure\n",
        "   - SMILE strings, ASCII representations, of drug molecule structures. Commonly used to encode molecular structure.\n",
        "* Target\n",
        "   - The molecule in the body which drug is intended to impact.\n",
        "* Enzyme\n",
        "   - The enzyme responsible for processing a drug within the body. Enzymes can degrade molecules into derivatives.\n",
        "* Pathway\n",
        "   - The specific pathway through which drugs are absorbed, distributed, metabolized, and excreted from the body.\n",
        "\n",
        "All feature matrices were derived from the DrugBank database, and sourced from $Deng et al^{5}$ as an _eventdb_. The Pathway feature matrix also includes data from the KEGG database. Each row in the matrices represents an individual drug, while the columns are 1-hot encodings of the presence of drug properties. As a result, each matrix varies in the length of the second axis.\n",
        "\n",
        "\n",
        "To achieve a representation of drug similarity, these feature matrices are transformed into similarity matrices via a Jaccard similarity function. This results in uniform 572x572 similarity feature matrices. These similarity matrices were provided, however we also utilized our own code to derive these matrices. PCA analysis was then done on the similarity matrices, and the resulting matrices become the node attributes for our various graphs.\n",
        "\n",
        "\n",
        "In addition, the paper utilizes an interaction matrix, describing 65 types of interactions between the 572 drugs (as well as no interaction). These 65 (66 including no interaction) types are the types of DDI events extracted by $Deng et al^{5}$. This matrix is used to create the edges of our drug graphs.\n",
        "The matrix has 4 dimensions:\n",
        "- Drug 1\n",
        "- Drug 2\n",
        "   * Note, since there is no causal relationship between the drugs, Drug 1 and Drug 2 for a given row can be swapped.\n",
        "- Mechanism of drug interaction\n",
        "- If interaction is increased or decreased\n",
        "\n",
        "From this, the paper can derive two submatrices: the presence of drug interactions and interaction types. The distribution of the data is extremely uneven across event types, resulting in underfitting to the less represented events. This fact informed the basis of many of our experiments - as we try to appropriately fit the model for these events.\n",
        "\n",
        "We perform analysis over these different matrices in the below sections.\n"
      ]
    },
    {
      "cell_type": "markdown",
      "metadata": {
        "id": "Lwcg87xjk7cJ"
      },
      "source": [
        "# Notebook Setup\n",
        "\n",
        "* To install necessary requirements, run the cell below."
      ]
    },
    {
      "cell_type": "markdown",
      "metadata": {
        "id": "WLGpAL7WeoJP"
      },
      "source": [
        "##### Import Libraries"
      ]
    },
    {
      "cell_type": "code",
      "execution_count": 1,
      "metadata": {
        "colab": {
          "base_uri": "https://localhost:8080/"
        },
        "id": "4jO3dp-JelVC",
        "outputId": "5adf9c8a-b8e1-4174-ca37-a2cf5efdbb61"
      },
      "outputs": [
        {
          "output_type": "stream",
          "name": "stdout",
          "text": [
            "Looking in links: https://download.pytorch.org/whl/cu121/torch_stable.html\n",
            "Requirement already satisfied: torch==2.2.1+cu121 in /usr/local/lib/python3.10/dist-packages (2.2.1+cu121)\n",
            "\u001b[31mERROR: Could not find a version that satisfies the requirement torchvision==0.13.1+cu121 (from versions: 0.1.6, 0.1.7, 0.1.8, 0.1.9, 0.2.0, 0.2.1, 0.2.2, 0.2.2.post2, 0.2.2.post3, 0.12.0, 0.13.0, 0.13.1, 0.14.0, 0.14.1, 0.15.0, 0.15.1, 0.15.2, 0.16.0, 0.16.0+cu121, 0.16.1, 0.16.1+cu121, 0.16.2, 0.16.2+cu121, 0.17.0, 0.17.0+cu121, 0.17.1, 0.17.1+cu121, 0.17.2, 0.17.2+cu121)\u001b[0m\u001b[31m\n",
            "\u001b[0m\u001b[31mERROR: No matching distribution found for torchvision==0.13.1+cu121\u001b[0m\u001b[31m\n",
            "\u001b[0mCollecting torch-geometric\n",
            "  Downloading torch_geometric-2.5.2-py3-none-any.whl (1.1 MB)\n",
            "\u001b[2K     \u001b[90m━━━━━━━━━━━━━━━━━━━━━━━━━━━━━━━━━━━━━━━━\u001b[0m \u001b[32m1.1/1.1 MB\u001b[0m \u001b[31m3.8 MB/s\u001b[0m eta \u001b[36m0:00:00\u001b[0m\n",
            "\u001b[?25hRequirement already satisfied: tqdm in /usr/local/lib/python3.10/dist-packages (from torch-geometric) (4.66.2)\n",
            "Requirement already satisfied: numpy in /usr/local/lib/python3.10/dist-packages (from torch-geometric) (1.25.2)\n",
            "Requirement already satisfied: scipy in /usr/local/lib/python3.10/dist-packages (from torch-geometric) (1.11.4)\n",
            "Requirement already satisfied: fsspec in /usr/local/lib/python3.10/dist-packages (from torch-geometric) (2023.6.0)\n",
            "Requirement already satisfied: jinja2 in /usr/local/lib/python3.10/dist-packages (from torch-geometric) (3.1.3)\n",
            "Requirement already satisfied: aiohttp in /usr/local/lib/python3.10/dist-packages (from torch-geometric) (3.9.3)\n",
            "Requirement already satisfied: requests in /usr/local/lib/python3.10/dist-packages (from torch-geometric) (2.31.0)\n",
            "Requirement already satisfied: pyparsing in /usr/local/lib/python3.10/dist-packages (from torch-geometric) (3.1.2)\n",
            "Requirement already satisfied: scikit-learn in /usr/local/lib/python3.10/dist-packages (from torch-geometric) (1.2.2)\n",
            "Requirement already satisfied: psutil>=5.8.0 in /usr/local/lib/python3.10/dist-packages (from torch-geometric) (5.9.5)\n",
            "Requirement already satisfied: aiosignal>=1.1.2 in /usr/local/lib/python3.10/dist-packages (from aiohttp->torch-geometric) (1.3.1)\n",
            "Requirement already satisfied: attrs>=17.3.0 in /usr/local/lib/python3.10/dist-packages (from aiohttp->torch-geometric) (23.2.0)\n",
            "Requirement already satisfied: frozenlist>=1.1.1 in /usr/local/lib/python3.10/dist-packages (from aiohttp->torch-geometric) (1.4.1)\n",
            "Requirement already satisfied: multidict<7.0,>=4.5 in /usr/local/lib/python3.10/dist-packages (from aiohttp->torch-geometric) (6.0.5)\n",
            "Requirement already satisfied: yarl<2.0,>=1.0 in /usr/local/lib/python3.10/dist-packages (from aiohttp->torch-geometric) (1.9.4)\n",
            "Requirement already satisfied: async-timeout<5.0,>=4.0 in /usr/local/lib/python3.10/dist-packages (from aiohttp->torch-geometric) (4.0.3)\n",
            "Requirement already satisfied: MarkupSafe>=2.0 in /usr/local/lib/python3.10/dist-packages (from jinja2->torch-geometric) (2.1.5)\n",
            "Requirement already satisfied: charset-normalizer<4,>=2 in /usr/local/lib/python3.10/dist-packages (from requests->torch-geometric) (3.3.2)\n",
            "Requirement already satisfied: idna<4,>=2.5 in /usr/local/lib/python3.10/dist-packages (from requests->torch-geometric) (3.6)\n",
            "Requirement already satisfied: urllib3<3,>=1.21.1 in /usr/local/lib/python3.10/dist-packages (from requests->torch-geometric) (2.0.7)\n",
            "Requirement already satisfied: certifi>=2017.4.17 in /usr/local/lib/python3.10/dist-packages (from requests->torch-geometric) (2024.2.2)\n",
            "Requirement already satisfied: joblib>=1.1.1 in /usr/local/lib/python3.10/dist-packages (from scikit-learn->torch-geometric) (1.4.0)\n",
            "Requirement already satisfied: threadpoolctl>=2.0.0 in /usr/local/lib/python3.10/dist-packages (from scikit-learn->torch-geometric) (3.4.0)\n",
            "Installing collected packages: torch-geometric\n",
            "Successfully installed torch-geometric-2.5.2\n",
            "Looking in links: https://data.pyg.org/whl/torch-2.2.1+cu121.html\n",
            "Collecting torch-cluster\n",
            "  Downloading https://data.pyg.org/whl/torch-2.2.0%2Bcu121/torch_cluster-1.6.3%2Bpt22cu121-cp310-cp310-linux_x86_64.whl (3.4 MB)\n",
            "\u001b[2K     \u001b[90m━━━━━━━━━━━━━━━━━━━━━━━━━━━━━━━━━━━━━━━━\u001b[0m \u001b[32m3.4/3.4 MB\u001b[0m \u001b[31m39.4 MB/s\u001b[0m eta \u001b[36m0:00:00\u001b[0m\n",
            "\u001b[?25hRequirement already satisfied: scipy in /usr/local/lib/python3.10/dist-packages (from torch-cluster) (1.11.4)\n",
            "Requirement already satisfied: numpy<1.28.0,>=1.21.6 in /usr/local/lib/python3.10/dist-packages (from scipy->torch-cluster) (1.25.2)\n",
            "Installing collected packages: torch-cluster\n",
            "Successfully installed torch-cluster-1.6.3+pt22cu121\n",
            "2.2.1+cu121\n",
            "12.1\n"
          ]
        }
      ],
      "source": [
        "import requests\n",
        "import pandas as pd\n",
        "import numpy as np\n",
        "import math\n",
        "import sqlite3\n",
        "!pip install torch==2.2.1+cu121 torchvision==0.13.1+cu121 torchaudio==0.12.1+cu121 -f https://download.pytorch.org/whl/cu121/torch_stable.html\n",
        "!pip install torch-geometric\n",
        "!pip install torch-cluster -f https://data.pyg.org/whl/torch-2.2.1+cu121.html\n",
        "import torch\n",
        "from torch_geometric.data import Data\n",
        "from torch_geometric.nn import Node2Vec\n",
        "from torch_geometric.nn import MessagePassing\n",
        "from torch_geometric.utils import add_self_loops, degree\n",
        "import torch.nn as nn\n",
        "import torch.nn.functional as F\n",
        "from torch.nn.parameter import Parameter\n",
        "from torch.utils.data import Dataset, DataLoader\n",
        "import torch.optim as optim\n",
        "\n",
        "from sklearn.metrics import roc_curve, auc, precision_score, recall_score, roc_auc_score, accuracy_score, f1_score, precision_recall_curve\n",
        "from sklearn.metrics.pairwise import pairwise_distances\n",
        "from sklearn.model_selection import train_test_split\n",
        "from sklearn.preprocessing import label_binarize\n",
        "from sklearn.model_selection import KFold\n",
        "from sklearn.decomposition import PCA\n",
        "import matplotlib.pyplot as plt\n",
        "\n",
        "from collections import defaultdict\n",
        "from operator import index\n",
        "from six import iteritems\n",
        "import time\n",
        "from google.colab import files\n",
        "\n",
        "print(torch.__version__)\n",
        "print(torch.version.cuda)"
      ]
    },
    {
      "cell_type": "markdown",
      "metadata": {
        "id": "pqZdTZTUk7cL"
      },
      "source": [
        "### Notebook Configuration\n",
        "\n",
        "This paper has several steps including:\n",
        "* Download event_db and extract raw drug attributes and interaction data.\n",
        "* Train GNN models and generate graph embeddings\n",
        "* Train NN\n",
        "\n",
        "For ease of running, we will enable feature_flags, selecting to either fully run each step OR download from precomputed sources. Any step can be toggled on/off in the below cell. The precomputed resources are stored in [our teams github repository](https://github.com/NealRyan/Drug-drug-interaction-modeling/tree/main).\n",
        "\n",
        "For the best performance, use precomputed data by setting flags to default values provided below."
      ]
    },
    {
      "cell_type": "markdown",
      "metadata": {
        "id": "zV6ezMphImS_"
      },
      "source": [
        "##### Set Control Flags"
      ]
    },
    {
      "cell_type": "code",
      "source": [
        "TRAIN_GNN = False # default: False\n",
        "TRAIN_DNN = False # default: False\n",
        "\n",
        "USE_GIVEN_DATA = True # default: True\n",
        "\n",
        "DOWNLOAD_MODELS = False # default: False"
      ],
      "metadata": {
        "id": "Ts5-QoNAIqmI"
      },
      "execution_count": 2,
      "outputs": []
    },
    {
      "cell_type": "markdown",
      "metadata": {
        "id": "o8y8OhcxesNl"
      },
      "source": [
        "##### Download and Process Data"
      ]
    },
    {
      "cell_type": "markdown",
      "metadata": {
        "id": "xR9Kva3pe5M-"
      },
      "source": [
        "##### Helper Functions"
      ]
    },
    {
      "cell_type": "code",
      "execution_count": 3,
      "metadata": {
        "id": "Rknog8eeeqsS"
      },
      "outputs": [],
      "source": [
        "def download_file(url, filename):\n",
        "    response = requests.get(url)\n",
        "    with open(filename, 'wb') as file:\n",
        "        file.write(response.content)\n",
        "\n",
        "def read_data(file_path):\n",
        "    with open(file_path, 'r') as file:\n",
        "        return [line.strip().split() for line in file.readlines()]\n",
        "\n",
        "def download_model_file(url, filename):\n",
        "    response = requests.get(url, stream=True)\n",
        "    with open(filename, 'wb') as file:\n",
        "        for chunk in response.iter_content(chunk_size=8192):\n",
        "            file.write(chunk)"
      ]
    },
    {
      "cell_type": "markdown",
      "metadata": {
        "id": "QWrox_yue63e"
      },
      "source": [
        "##### Datapaths"
      ]
    },
    {
      "cell_type": "code",
      "execution_count": 4,
      "metadata": {
        "id": "pt62wzMee9IK"
      },
      "outputs": [],
      "source": [
        "urls = {\n",
        "    'train': 'https://raw.githubusercontent.com/NealRyan/Drug-drug-interaction-modeling/main/Original%20Code/DDI/data5/train.txt',\n",
        "    'test' : 'https://raw.githubusercontent.com/NealRyan/Drug-drug-interaction-modeling/main/Original%20Code/DDI/data5/test.txt',\n",
        "    'valid' : 'https://raw.githubusercontent.com/NealRyan/Drug-drug-interaction-modeling/main/Original%20Code/DDI/data5/valid.txt',\n",
        "    'full_pos2': 'https://raw.githubusercontent.com/NealRyan/Drug-drug-interaction-modeling/main/Original%20Code/DDI/full_pos2.txt',\n",
        "    'all_neg2': 'https://raw.githubusercontent.com/NealRyan/Drug-drug-interaction-modeling/main/Original%20Code/DDI/all_neg2.txt',\n",
        "    'enzyme' : 'https://raw.githubusercontent.com/NealRyan/Drug-drug-interaction-modeling/main/Data/Similarity%20Matrices/enzyme.txt',\n",
        "    'pathway' : 'https://raw.githubusercontent.com/NealRyan/Drug-drug-interaction-modeling/main/Data/Similarity%20Matrices/pathway.txt',\n",
        "    'substructure' : 'https://raw.githubusercontent.com/NealRyan/Drug-drug-interaction-modeling/main/Data/Similarity%20Matrices/substructure.txt',\n",
        "    'target' : 'https://raw.githubusercontent.com/NealRyan/Drug-drug-interaction-modeling/main/Data/Similarity%20Matrices/target.txt',\n",
        "    'drugs' : 'https://raw.githubusercontent.com/NealRyan/Drug-drug-interaction-modeling/main/Data/Encoded%20Features%20Data/DrugList.txt',\n",
        "    'events' : 'https://raw.githubusercontent.com/NealRyan/Drug-drug-interaction-modeling/main/Data/Encoded%20Features%20Data/event_number.csv',\n",
        "    'enzyme_pca' : 'https://raw.githubusercontent.com/NealRyan/Drug-drug-interaction-modeling/main/Original%20Code/DDI/enzyme_PCA.csv',\n",
        "    'pathway_pca' : 'https://raw.githubusercontent.com/NealRyan/Drug-drug-interaction-modeling/main/Original%20Code/DDI/pathway_PCA.csv',\n",
        "    'substructure_pca' : 'https://raw.githubusercontent.com/NealRyan/Drug-drug-interaction-modeling/main/Original%20Code/DDI/smile_PCA.csv',\n",
        "    'target_pca' : 'https://raw.githubusercontent.com/NealRyan/Drug-drug-interaction-modeling/main/Original%20Code/DDI/target_PCA.csv',\n",
        "    'eventdb' : 'https://raw.githubusercontent.com/NealRyan/Drug-drug-interaction-modeling/main/Data/Raw%20Event%20DB/event.db'\n",
        "    #'walks' : 'https://raw.githubusercontent.com/NealRyan/Drug-drug-interaction-modeling/main/Original%20Code/DDI/data5/walks.txt'\n",
        "}\n",
        "\n",
        "model_urls = {\n",
        "    'enzyme_model_best_model': 'https://github.com/NealRyan/Drug-drug-interaction-modeling/raw/main/Model%20Files/enzyme_model_best_model.pth',\n",
        "    'pathway_model_best_model': 'https://github.com/NealRyan/Drug-drug-interaction-modeling/raw/main/Model%20Files/pathway_model_best_model.pth',\n",
        "    'substructure_model_best_model': 'https://github.com/NealRyan/Drug-drug-interaction-modeling/raw/main/Model%20Files/substructure_model_best_model.pth',\n",
        "    'target_model_best_model': 'https://github.com/NealRyan/Drug-drug-interaction-modeling/raw/main/Model%20Files/target_model_best_model.pth',\n",
        "    'raw_data_enzyme_model_best_model': 'https://github.com/NealRyan/Drug-drug-interaction-modeling/raw/main/Model%20Files/raw_data_enzyme_model_best_model.pth',\n",
        "    'raw_data_pathway_model_best_model': 'https://github.com/NealRyan/Drug-drug-interaction-modeling/raw/main/Model%20Files/raw_data_pathway_model_best_model.pth',\n",
        "    'raw_data_substructure_model_best_model': 'https://github.com/NealRyan/Drug-drug-interaction-modeling/raw/main/Model%20Files/raw_data_substructure_model_best_model.pth',\n",
        "    'raw_data_target_model_best_model': 'https://github.com/NealRyan/Drug-drug-interaction-modeling/raw/main/Model%20Files/raw_data_target_model_best_model.pth'\n",
        "}"
      ]
    },
    {
      "cell_type": "markdown",
      "metadata": {
        "id": "vJHDvB-TfIpt"
      },
      "source": [
        "##### Download"
      ]
    },
    {
      "cell_type": "code",
      "execution_count": 5,
      "metadata": {
        "id": "34_yu8XyfIEG"
      },
      "outputs": [],
      "source": [
        "# Download the text files\n",
        "for key, url in urls.items():\n",
        "    download_file(url, f\"{key}.txt\")"
      ]
    },
    {
      "cell_type": "code",
      "source": [
        "# Download the models\n",
        "for key, url in model_urls.items():\n",
        "    download_file(url, f\"{key}.pth\")"
      ],
      "metadata": {
        "id": "eVKpDTHNQI1P"
      },
      "execution_count": 6,
      "outputs": []
    },
    {
      "cell_type": "markdown",
      "metadata": {
        "id": "9ojAJFZpk7cM"
      },
      "source": [
        "### Extract Raw Feature Data\n",
        "\n",
        "Download and extract raw feature data from event_db (from Deng et al) and convert into the required Jacard similarity matrices."
      ]
    },
    {
      "cell_type": "code",
      "source": [
        "conn = sqlite3.connect('/content/eventdb.txt')\n",
        "\n",
        "df_raw_drug = pd.read_sql('select * from drug;', conn)\n",
        "df_raw_extraction = pd.read_sql('select * from extraction;', conn)\n",
        "#df_raw_event = pd.read_sql('select * from event;', conn)\n",
        "#df_raw_event_num = pd.read_sql('select * from event_number;', conn)\n",
        "\n",
        "# close the DB connection\n",
        "conn.close()"
      ],
      "metadata": {
        "id": "mR_P8odPq13E"
      },
      "execution_count": 7,
      "outputs": []
    },
    {
      "cell_type": "code",
      "source": [
        "def dict_from_set(in_set):\n",
        "    ret_dic = {}\n",
        "    count = 0\n",
        "    for val in in_set:\n",
        "        ret_dic[val] = count\n",
        "        count += 1\n",
        "\n",
        "    return ret_dic\n",
        "\n",
        "def index_list_from_str_list(str_list, str_dict):\n",
        "    ret_list = []\n",
        "    for s in str_list:\n",
        "        ret_list.append(str_dict[s])\n",
        "\n",
        "    return ret_list\n",
        "\n",
        "targets = set()\n",
        "enzymes = set()\n",
        "pathways = set()\n",
        "smiles = set()\n",
        "\n",
        "for index, row in df_raw_drug.iterrows():\n",
        "    target_list = row['target'].split('|')\n",
        "    enzyme_list = row['enzyme'].split('|')\n",
        "    pathways_list = row['pathway'].split('|')\n",
        "    smiles_list = row['smile'].split('|')\n",
        "\n",
        "    targets.update(target_list)\n",
        "    enzymes.update(enzyme_list)\n",
        "    pathways.update(pathways_list)\n",
        "    smiles.update(smiles_list)\n",
        "\n",
        "targets_dic = dict_from_set(targets)\n",
        "enzymes_dic = dict_from_set(enzymes)\n",
        "pathways_dic = dict_from_set(pathways)\n",
        "smiles_dic = dict_from_set(smiles)\n",
        "\n",
        "targets_jac = np.zeros((len(df_raw_drug.index), len(targets)))\n",
        "enzymes_jac = np.zeros((len(df_raw_drug.index), len(enzymes)))\n",
        "pathways_jac = np.zeros((len(df_raw_drug.index), len(pathways)))\n",
        "smiles_jac = np.zeros((len(df_raw_drug.index), len(smiles)))\n",
        "\n",
        "for index, row in df_raw_drug.iterrows():\n",
        "    targets_jac[index, index_list_from_str_list(row['target'].split('|'), targets_dic)] = 1\n",
        "    enzymes_jac[index, index_list_from_str_list(row['enzyme'].split('|'), enzymes_dic)] = 1\n",
        "    pathways_jac[index, index_list_from_str_list(row['pathway'].split('|'), pathways_dic)] = 1\n",
        "    smiles_jac[index, index_list_from_str_list(row['smile'].split('|'), smiles_dic)] = 1\n",
        "\n",
        "jac_sim_target = 1 - pairwise_distances(targets_jac, metric='jaccard')\n",
        "jac_sim_enzyme = 1 - pairwise_distances(enzymes_jac, metric='jaccard')\n",
        "jac_sim_pathways = 1 - pairwise_distances(pathways_jac, metric='jaccard')\n",
        "jac_sim_smiles = 1 - pairwise_distances(smiles_jac, metric='jaccard')\n",
        "\n",
        "target_PCA = PCA(n_components=len(jac_sim_target))\n",
        "enzyme_PCA = PCA(n_components=len(jac_sim_enzyme))\n",
        "pathway_PCA = PCA(n_components=len(jac_sim_pathways))\n",
        "smile_PCA = PCA(n_components=len(jac_sim_smiles))\n",
        "\n",
        "target_PCA.fit(jac_sim_target)\n",
        "jac_sim_df_target = pd.DataFrame(target_PCA.transform(jac_sim_target))\n",
        "\n",
        "enzyme_PCA.fit(jac_sim_enzyme)\n",
        "jac_sim_df_enzyme = pd.DataFrame(enzyme_PCA.transform(jac_sim_enzyme))\n",
        "\n",
        "pathway_PCA.fit(jac_sim_pathways)\n",
        "jac_sim_df_pathways = pd.DataFrame(pathway_PCA.transform(jac_sim_pathways))\n",
        "\n",
        "smile_PCA.fit(jac_sim_smiles)\n",
        "jac_sim_df_smiles = pd.DataFrame(smile_PCA.transform(jac_sim_smiles))\n",
        "\n",
        "#print(jac_sim_df_target.head())"
      ],
      "metadata": {
        "colab": {
          "base_uri": "https://localhost:8080/"
        },
        "id": "ulpGiI0-GhD_",
        "outputId": "33263aae-4a94-43a2-9219-ee15c64cd3a9"
      },
      "execution_count": 8,
      "outputs": [
        {
          "output_type": "stream",
          "name": "stderr",
          "text": [
            "/usr/local/lib/python3.10/dist-packages/sklearn/metrics/pairwise.py:2025: DataConversionWarning: Data was converted to boolean for metric jaccard\n",
            "  warnings.warn(msg, DataConversionWarning)\n",
            "/usr/local/lib/python3.10/dist-packages/sklearn/metrics/pairwise.py:2025: DataConversionWarning: Data was converted to boolean for metric jaccard\n",
            "  warnings.warn(msg, DataConversionWarning)\n",
            "/usr/local/lib/python3.10/dist-packages/sklearn/metrics/pairwise.py:2025: DataConversionWarning: Data was converted to boolean for metric jaccard\n",
            "  warnings.warn(msg, DataConversionWarning)\n",
            "/usr/local/lib/python3.10/dist-packages/sklearn/metrics/pairwise.py:2025: DataConversionWarning: Data was converted to boolean for metric jaccard\n",
            "  warnings.warn(msg, DataConversionWarning)\n"
          ]
        }
      ]
    },
    {
      "cell_type": "markdown",
      "metadata": {
        "id": "IVgk8wg4k7cM"
      },
      "source": [
        "### Extract drug event type interactions from event_db (from Deng et al)\n",
        "\n",
        "These interactions will be used to form our positive examples, negative examples, and a complete list of drug-drug interactions for use in generating our graph embedding."
      ]
    },
    {
      "cell_type": "code",
      "source": [
        "df_raw_drug_name = df_raw_drug.set_index('name')\n",
        "\n",
        "df_raw_extraction['event'] = df_raw_extraction['mechanism'] + ' ' + df_raw_extraction['action']\n",
        "\n",
        "df_raw_events = df_raw_extraction['event'].value_counts().to_frame()\n",
        "df_raw_events['event_index'] = np.arange(df_raw_events.shape[0])\n",
        "\n",
        "df_raw_full_pos = df_raw_extraction.join(df_raw_events, on='event')[['drugA', 'drugB', 'event_index']]\n",
        "df_raw_full_pos = df_raw_full_pos.join(df_raw_drug_name['index'], on='drugA')\n",
        "df_raw_full_pos = df_raw_full_pos.join(df_raw_drug_name['index'], on='drugB', rsuffix='_drugB')\n",
        "df_raw_full_pos = df_raw_full_pos[['event_index', 'index', 'index_drugB']]\n",
        "\n",
        "df_raw_events = df_raw_events.reset_index()[['event', 'count']]\n",
        "\n",
        "used_pairs = np.identity(len(df_raw_drug_name.index))\n",
        "# could also sort ints to ensure consistent ordering instead of making matrix symmetrical\n",
        "for index, row in df_raw_full_pos.iterrows():\n",
        "    used_pairs[row['index'], row['index_drugB']] = 1\n",
        "    used_pairs[row['index_drugB'], row['index']] = 1\n",
        "\n",
        "df_raw_all_neg = np.zeros((len(df_raw_full_pos.index), 2))\n",
        "\n",
        "count = 0\n",
        "while count < len(df_raw_all_neg):\n",
        "    # could also sort ints to ensure consistent ordering instead of making matrix symmetrical\n",
        "    rand_pair = np.random.randint(len(df_raw_drug_name.index), size=2)\n",
        "    while used_pairs[rand_pair[0], rand_pair[1]] == 1 or used_pairs[rand_pair[1], rand_pair[0]] == 1:\n",
        "        rand_pair = np.random.randint(len(df_raw_drug_name.index), size=2)\n",
        "\n",
        "    used_pairs[rand_pair[0], rand_pair[1]] = 1\n",
        "    used_pairs[rand_pair[1], rand_pair[0]] = 1\n",
        "    df_raw_all_neg[count] = rand_pair\n",
        "    count += 1\n",
        "\n",
        "df_raw_all_neg = pd.DataFrame(df_raw_all_neg, columns=['drug1', 'drug2'], dtype=np.int64)\n",
        "df_raw_full_pos = df_raw_full_pos.rename(columns={'event_index': 'event_num', 'index': 'drug1', 'index_drugB': 'drug2'})\n",
        "\n",
        "#print(df_raw_full_pos.head())\n",
        "#print(df_raw_all_neg.head())\n",
        "#print(df_raw_events)"
      ],
      "metadata": {
        "id": "RP1GVwtzSYWV"
      },
      "execution_count": 9,
      "outputs": []
    },
    {
      "cell_type": "code",
      "source": [
        "def save_similarity_matrix(name, matrix):\n",
        "    file_path = f'/content/{name}.txt'\n",
        "\n",
        "    with open(file_path, 'w') as file:\n",
        "        file.write('572 572\\n')\n",
        "        for index, row in matrix.iterrows():\n",
        "            file.write(f'{index} ')\n",
        "            file.write(\" \".join(str(val) for val in row.tolist()) + '\\n')\n",
        "\n",
        "if not USE_GIVEN_DATA:\n",
        "    save_similarity_matrix('enzyme', jac_sim_df_enzyme)\n",
        "    save_similarity_matrix('target', jac_sim_df_target)\n",
        "    save_similarity_matrix('pathway', jac_sim_df_pathways)\n",
        "    save_similarity_matrix('substructure', jac_sim_df_smiles)"
      ],
      "metadata": {
        "id": "rXZG-uGE-7F-"
      },
      "execution_count": 10,
      "outputs": []
    },
    {
      "cell_type": "markdown",
      "metadata": {
        "id": "w9zwGkkVi_bE"
      },
      "source": [
        "##### Process similarity matrices"
      ]
    },
    {
      "cell_type": "code",
      "execution_count": 11,
      "metadata": {
        "colab": {
          "base_uri": "https://localhost:8080/"
        },
        "id": "8xG7uiYdlMQd",
        "outputId": "9780778e-1ff5-4cdb-f722-1f95021d23cc"
      },
      "outputs": [
        {
          "output_type": "stream",
          "name": "stdout",
          "text": [
            "Working on enzyme.txt: dimensions 572x572\n",
            "Working on pathway.txt: dimensions 572x572\n",
            "Working on substructure.txt: dimensions 572x572\n",
            "Working on target.txt: dimensions 572x572\n",
            "Enzyme Matrix first 5 lines:\n",
            "        0         1         2         3         4         5         6    \\\n",
            "0  4.593168 -0.541539 -0.419176 -0.585470  0.635045 -0.553429 -0.638244   \n",
            "1 -1.746907 -0.047556  0.115552  0.256290  0.833815  0.055187 -0.252872   \n",
            "2 -1.604115  0.854200  0.054576  0.923948 -0.645173 -0.069596 -0.404109   \n",
            "3 -1.769781 -0.921454 -0.756435 -0.686417  0.678216 -0.013575  0.142495   \n",
            "4  3.707746  2.830004 -0.844595  0.383860 -0.122485 -0.528834  0.652127   \n",
            "\n",
            "        7         8         9    ...           562           563  \\\n",
            "0  0.058711  0.458386  0.214047  ...  0.000000e+00 -4.857226e-17   \n",
            "1  0.095018 -0.013088  0.119412  ...  3.209238e-17 -1.561251e-17   \n",
            "2 -0.331794  0.545126  0.175939  ... -1.561251e-17  1.734723e-18   \n",
            "3 -0.032153 -0.427615 -0.124185  ...  6.938894e-18  1.023487e-16   \n",
            "4  0.061080 -0.276268 -0.005134  ... -1.353084e-16 -1.387779e-16   \n",
            "\n",
            "            564           565           566           567           568  \\\n",
            "0  3.122502e-17  7.979728e-17 -1.387779e-17 -9.714451e-17  1.110223e-16   \n",
            "1  1.387779e-17 -5.204170e-18  1.214306e-17  2.775558e-17 -1.734723e-18   \n",
            "2 -2.602085e-18 -2.775558e-17 -3.469447e-17 -7.806256e-18  2.775558e-17   \n",
            "3 -4.466913e-17 -3.165870e-17  2.081668e-17  5.984796e-17  5.204170e-17   \n",
            "4  1.179612e-16  2.636780e-16 -1.387779e-17 -7.285839e-17 -1.630640e-16   \n",
            "\n",
            "            569           570           571  \n",
            "0 -1.387779e-16  2.046974e-16 -9.020562e-17  \n",
            "1  6.591949e-17 -5.117434e-17 -7.216450e-16  \n",
            "2  7.632783e-17 -7.502679e-17 -7.103693e-16  \n",
            "3 -2.428613e-17 -4.770490e-17  2.081668e-16  \n",
            "4 -1.110223e-16  1.006140e-16 -3.053113e-16  \n",
            "\n",
            "[5 rows x 572 columns]\n"
          ]
        }
      ],
      "source": [
        "import pandas as pd\n",
        "\n",
        "def load_similarity_matrix(file_path):\n",
        "    file_name = file_path.split('/')[-1]  #Get just file name from path\n",
        "\n",
        "    with open(file_path, 'r') as file:\n",
        "        lines = file.readlines()\n",
        "        #take the first line as the dimensions\n",
        "        dimensions = lines[0].strip().split()\n",
        "        rows, cols = int(dimensions[0]), int(dimensions[1])\n",
        "        print(f'Working on {file_name}: dimensions {rows}x{cols}')\n",
        "\n",
        "        #the rest of the lines contain the matrix\n",
        "        data = []\n",
        "        for i, line in enumerate(lines[1:]):\n",
        "            row_data = line.strip().split()[1:]  # Skip the row number\n",
        "\n",
        "            #convert to float and handle scientific notation\n",
        "            try:\n",
        "                row_data = [float(x) for x in row_data]\n",
        "            except ValueError as e:\n",
        "                print(f\"Error in line {i+2}: {e}\")\n",
        "                continue\n",
        "\n",
        "            if len(row_data) != cols:\n",
        "                raise ValueError(f\"Row {i+2} does not contain {cols} values. Row data: {row_data}\")\n",
        "\n",
        "            data.append(row_data)\n",
        "\n",
        "        # Convert to DataFrame\n",
        "        matrix = pd.DataFrame(data)\n",
        "        if matrix.shape != (rows, cols):\n",
        "            raise ValueError(f\"Data does not match specified dimensions {rows}x{cols}\")\n",
        "        return matrix\n",
        "\n",
        "enzyme_matrix = load_similarity_matrix('/content/enzyme.txt')\n",
        "pathway_matrix = load_similarity_matrix('/content/pathway.txt')\n",
        "substructure_matrix = load_similarity_matrix('/content/substructure.txt')\n",
        "target_matrix = load_similarity_matrix('/content/target.txt')\n",
        "\n",
        "\n",
        "print('Enzyme Matrix first 5 lines:')\n",
        "print(enzyme_matrix.head())"
      ]
    },
    {
      "cell_type": "markdown",
      "metadata": {
        "id": "u9QLK7c1p7VV"
      },
      "source": [
        "## Process training and test data"
      ]
    },
    {
      "cell_type": "code",
      "execution_count": 12,
      "metadata": {
        "id": "bKCVMK8em9NF"
      },
      "outputs": [],
      "source": [
        "# Define a function to load the data into a DataFrame and label the columns\n",
        "def load_data(file_path, has_interaction=True, has_event_num=True):\n",
        "    #testing data, which can have 0 or 1 interactions\n",
        "    if has_event_num and has_interaction:\n",
        "        column_names = ['event_num', 'drug1', 'drug2', 'interaction']\n",
        "    #training data which does not include interaction because it's always 1\n",
        "    elif has_event_num:\n",
        "        column_names = ['event_num', 'drug1', 'drug2']\n",
        "    #All neg which only contains drug1, drug 2 and no interactions or events\n",
        "    else:\n",
        "        column_names = ['drug1', 'drug2']\n",
        "\n",
        "    data = pd.read_csv(file_path, sep=' ', header=None, names=column_names)\n",
        "\n",
        "    return data\n",
        "\n",
        "# Paths to the files in the Colab environment\n",
        "test_file_path = '/content/test.txt'\n",
        "train_file_path = '/content/train.txt'\n",
        "valid_file_path = '/content/valid.txt'\n",
        "all_neg_file_path = '/content/all_neg2.txt'\n",
        "full_pos_file_path = '/content/full_pos2.txt'\n",
        "\n",
        "# Load the data into DataFrames\n",
        "test_df = load_data(test_file_path, has_interaction=True)\n",
        "train_df = load_data(train_file_path, has_interaction=False)\n",
        "valid_df = load_data(valid_file_path, has_interaction=True)\n",
        "all_neg_df = load_data(all_neg_file_path, has_interaction=False, has_event_num=False)\n",
        "full_pos_df = load_data(full_pos_file_path, has_interaction=False)\n",
        "\n",
        "# print(\"Test DataFrame:\")\n",
        "# print(test_df.head())\n",
        "# print('\\n')\n",
        "# print(\"Train DataFrame:\")\n",
        "# print(train_df.head())\n",
        "# print('\\n')\n",
        "# print(f'train drug1 range: {train_df.drug1.min()}-{train_df.drug1.max()}')\n",
        "# print(f'train drug2 range: {train_df.drug2.min()}-{train_df.drug2.max()}')"
      ]
    },
    {
      "cell_type": "markdown",
      "metadata": {
        "id": "GTq-dBaKk7cN"
      },
      "source": [
        "\n",
        "#### Data Analysis\n",
        "\n",
        "From our four raw features, we have the below unique values:\n",
        "* 202 unique enzymes\n",
        "* 1162 unique drug targets\n",
        "* 583 unique smile paths\n",
        "* 957 unqiue pathways\n",
        "\n",
        "The distribution of target, smile, and pathways encodings are largely even. The distribution for enzymnes are skewed towards the most commonly impacted enzymes.\n",
        "\n",
        "Following processing, all similarity matrices have a shape of 572x572. This is a result of the jaccard similarity, which we use to represent relationships between drug features. These matrices will be the node attributes within our GNNs to generate embeddings for prediction by our final models.\n",
        "\n",
        "#### Interaction Analyis\n",
        "\n",
        "As shown below, we have an even distribution of \"positive\" (interaction) and \"negative\" (no-interaction) events for 37264 each, with a total for 65 unique interaction types. However, we have a massive skew in interaction type (shown by index and head) with 3 interaction types accounting for 66% of the interactions. This massive skew will make it difficult for the model to train to less prevalent interactions.\n"
      ]
    },
    {
      "cell_type": "code",
      "source": [
        "print(f'Num target features: {len(targets)}')\n",
        "print(f'Num enzyme features: {len(enzymes)}')\n",
        "print(f'Num pathway features: {len(pathways)}')\n",
        "print(f'Num substructure features: {len(smiles)}')\n",
        "\n",
        "print(\"\\nInteraction Types:\")\n",
        "print(df_raw_events.head())"
      ],
      "metadata": {
        "colab": {
          "base_uri": "https://localhost:8080/"
        },
        "id": "mLg7hA6IXl9e",
        "outputId": "ae93f03f-b3c6-4326-8005-1a1ddc9ebaa9"
      },
      "execution_count": 13,
      "outputs": [
        {
          "output_type": "stream",
          "name": "stdout",
          "text": [
            "Num target features: 1162\n",
            "Num enzyme features: 202\n",
            "Num pathway features: 957\n",
            "Num substructure features: 583\n",
            "\n",
            "Interaction Types:\n",
            "                                              event  count\n",
            "0                           The metabolism decrease   9810\n",
            "1  The risk or severity of adverse effects increase   9496\n",
            "2                  The serum concentration increase   5646\n",
            "3                  The serum concentration decrease   2386\n",
            "4                 The therapeutic efficacy decrease   1312\n"
          ]
        }
      ]
    },
    {
      "cell_type": "markdown",
      "metadata": {
        "id": "3XY--83pk7cP"
      },
      "source": [
        "### Generate Train/Test/Validate Splits\n",
        "\n",
        "We will now create our train, test, and validate splits from the drug-drug interaction dataframes we generated from the event_db.\n",
        "\n",
        "We will use a standard (70-20-10, train, test, validation) split, giving us:\n",
        "* 52169 training samples\n",
        "* 14906 training samples\n",
        "* 7453 validation samples"
      ]
    },
    {
      "cell_type": "code",
      "execution_count": 14,
      "metadata": {
        "colab": {
          "base_uri": "https://localhost:8080/"
        },
        "id": "rpFAh1Eg0ELF",
        "outputId": "92ba68fb-c001-4840-c4c7-8e2e2a06e71a"
      },
      "outputs": [
        {
          "output_type": "stream",
          "name": "stdout",
          "text": [
            "Train data size: 52169\n",
            "Validation data size: 7453\n",
            "Test data size: 14906\n"
          ]
        }
      ],
      "source": [
        "if not USE_GIVEN_DATA:\n",
        "    full_pos_df = df_raw_full_pos\n",
        "    all_neg_df = df_raw_all_neg\n",
        "\n",
        "#select equal number of negative examples from all_neg_df\n",
        "num_negatives = len(full_pos_df)\n",
        "all_neg_sample = all_neg_df.sample(n=num_negatives, random_state=42)\n",
        "\n",
        "# Add an 'event_num' column with a placeholder value\n",
        "all_neg_sample['event_num'] = -1\n",
        "\n",
        "#Combine positive and negative examples for neural network training\n",
        "nn_data = pd.concat([full_pos_df, all_neg_sample]).reset_index(drop=True)\n",
        "\n",
        "#split data into train, validation, and test sets (70-10-20 split)\n",
        "train_df, test_df = train_test_split(nn_data, test_size=0.3, random_state=2)\n",
        "valid_df, test_df = train_test_split(test_df, test_size=(2/3), random_state=2)  #split last 30% into 10% and 20% valid/test\n",
        "\n",
        "test_df['interaction'] = test_df['event_num'].apply(lambda x: 1 if 0 <= x <= 64 else 0)\n",
        "\n",
        "# Verify the splits\n",
        "print(f\"Train data size: {len(train_df)}\")\n",
        "print(f\"Validation data size: {len(valid_df)}\")\n",
        "print(f\"Test data size: {len(test_df)}\")"
      ]
    },
    {
      "cell_type": "markdown",
      "metadata": {
        "id": "kzxpL8_Ok7cN"
      },
      "source": [
        "### GNN Training for Embedding Extraction\n",
        "\n",
        "We will create graph embeddings. These will serve as the drug feature vectors for use in our feed forward neural network. The existing PyTorch implementation of the $GATNE^{6}$ embedding method found [here](https://github.com/THUDM/GATNE) was implemented below.\n",
        "\n",
        "To perform this, we will make a graph of nodes (drugs) and edges (events - event num). Four graphs in total are made (one for each of the property types we want to make embeddings for - enzyme, pathway, substructure, and target). The features of the nodes in the graph will be a row of the feature matrix, corresponding to that drug's similarity to each of the other drugs in the network on that property type (enzyme for instance). A random walk of the graph with a context window is done for each drug and edge type to create one embedding per drug per interaction type.\n",
        "\n",
        "The output dimension of these graph embeddings is 572x32x66 which corresponds to the number of drugs x the embedding dimension x the number of events. The embedding dimension is a tuned hyperparameter from the original work, but can theoretically be changed. Finally, the last two dimensions of these matrices will be concatenated to form raw feature vectors for the nerual network (of dimension 572x2080 where 2080=32x65). \"Raw\" because we will still need to perform some further operations before they are ready to go."
      ]
    },
    {
      "cell_type": "code",
      "execution_count": 15,
      "metadata": {
        "colab": {
          "base_uri": "https://localhost:8080/"
        },
        "id": "HriU-Txu7Pmu",
        "outputId": "76fc4471-347c-404e-fc4d-888ea40ab1c6"
      },
      "outputs": [
        {
          "output_type": "stream",
          "name": "stdout",
          "text": [
            "Using device: cpu\n"
          ]
        }
      ],
      "source": [
        "embedding_dim = 32  #Default 32\n",
        "event_num = 65  #Default 65 DO NOT CHANGE\n",
        "\n",
        "#Dictionary of feature matrices to use\n",
        "#Not currently used\n",
        "\n",
        "feature_matrices = {}\n",
        "if USE_GIVEN_DATA:\n",
        "    feature_matrices['enzyme'] = enzyme_matrix\n",
        "    feature_matrices['pathway'] = pathway_matrix\n",
        "    feature_matrices['substructure'] =  substructure_matrix\n",
        "    feature_matrices['target'] = target_matrix\n",
        "else:\n",
        "    feature_matrices['enzyme'] = jac_sim_df_enzyme\n",
        "    feature_matrices['pathway'] = jac_sim_df_pathways\n",
        "    feature_matrices['substructure'] =  jac_sim_df_smiles\n",
        "    feature_matrices['target'] = jac_sim_df_target\n",
        "\n",
        "\n",
        "#Use GPU if available. This will be much faster for training\n",
        "device = torch.device('cuda' if torch.cuda.is_available() else 'cpu')\n",
        "print(f'Using device: {device}')"
      ]
    },
    {
      "cell_type": "code",
      "execution_count": 16,
      "metadata": {
        "id": "yy2mPqNVt6PV"
      },
      "outputs": [],
      "source": [
        "walk_length = 10 #Default 10\n",
        "walks_per_node = 20 #Default 20\n",
        "window_size = 5 #Default 5\n",
        "negative_samples = 5 #Default 5\n",
        "learning_rate = 0.01 #Default 0.01\n",
        "epochs = 1 #Default 1\n",
        "batch_size=64 #Default 64, lower this if RAM spikes are crashing Colab\n",
        "num_workers=16 #Default 16\n",
        "patience_num = 5 #no default (because we default to 1 epoch)\n",
        "save_path = '/content'\n",
        "edge_dim = 10 #Degault 10\n",
        "att_dim = 20 #Default 20\n",
        "negative_samples = 5 #Default 5\n",
        "neighbor_samples = 20 #Default 10\n",
        "eval_type = 'all'"
      ]
    },
    {
      "cell_type": "markdown",
      "metadata": {
        "id": "OROuvXBak7cO"
      },
      "source": [
        "##### Define graph edges\n",
        "There are two choices for how to define the graph neural network:\n",
        "* We can either include negative samples (drug-drug pairs that DO NOT interact with eachother)\n",
        "* Omit negative examples.\n",
        "\n",
        "The original paper does *not* use negative examples in training, and only includes negative samples in the validation and test sets. We will improve upon this by introducing a 50/50 split of positive and negative examples in our training data. It may be useful to use different splits of positive and negative examples for different models."
      ]
    },
    {
      "cell_type": "code",
      "execution_count": 17,
      "metadata": {
        "id": "GOGKiQEOkNoH"
      },
      "outputs": [],
      "source": [
        "class Vocab(object):\n",
        "    def __init__(self, count, index):\n",
        "        self.count = count\n",
        "        self.index = index\n",
        "\n",
        "#Batches for training the GNN\n",
        "def get_batches(pairs, neighbors, batch_size):\n",
        "    n_batches = (len(pairs) + (batch_size - 1)) // batch_size\n",
        "\n",
        "    for idx in range(n_batches):\n",
        "        x, y, t, neigh = [], [], [], []\n",
        "        for i in range(batch_size):\n",
        "            index = idx * batch_size + i\n",
        "            if index >= len(pairs):\n",
        "                break\n",
        "            x.append(pairs[index][0])\n",
        "            y.append(pairs[index][1])\n",
        "            t.append(pairs[index][2])\n",
        "            neigh.append(neighbors[pairs[index][0]])\n",
        "        yield torch.tensor(x), torch.tensor(y), torch.tensor(t), torch.tensor(neigh)\n",
        "\n",
        "def get_G_from_edges(edges):\n",
        "    edge_dict = defaultdict(set)\n",
        "    for edge in edges:\n",
        "        u, v = str(edge[0]), str(edge[1])\n",
        "        edge_dict[u].add(v)\n",
        "        edge_dict[v].add(u)\n",
        "    return edge_dict\n",
        "\n",
        "def load_training_data(f_name):\n",
        "    print('Loading data from:', f_name)\n",
        "    edge_data_by_type = dict()\n",
        "    all_nodes = list()\n",
        "    with open(f_name, 'r') as f:\n",
        "        for line in f:\n",
        "            words = line[:-1].split(' ')\n",
        "            if words[0] not in edge_data_by_type:\n",
        "                edge_data_by_type[words[0]] = list()\n",
        "            x, y = words[1], words[2]\n",
        "            edge_data_by_type[words[0]].append((x, y))\n",
        "            all_nodes.append(x)\n",
        "            all_nodes.append(y)\n",
        "    all_nodes = list(set(all_nodes))\n",
        "    print('Total training nodes: ' + str(len(all_nodes)))\n",
        "    return edge_data_by_type\n",
        "\n",
        "\n",
        "def load_testing_data(f_name):\n",
        "    print('Loading data from:', f_name)\n",
        "    true_edge_data_by_type = dict()\n",
        "    false_edge_data_by_type = dict()\n",
        "    all_nodes = list()\n",
        "    with open(f_name, 'r') as f:\n",
        "        for line in f:\n",
        "            words = line[:-1].split(' ')\n",
        "            x, y = words[1], words[2]\n",
        "            if int(words[3]) == 1:\n",
        "                if words[0] not in true_edge_data_by_type:\n",
        "                    true_edge_data_by_type[words[0]] = list()\n",
        "                true_edge_data_by_type[words[0]].append((x, y))\n",
        "            else:\n",
        "                if words[0] not in false_edge_data_by_type:\n",
        "                    false_edge_data_by_type[words[0]] = list()\n",
        "                false_edge_data_by_type[words[0]].append((x, y))\n",
        "            all_nodes.append(x)\n",
        "            all_nodes.append(y)\n",
        "    all_nodes = list(set(all_nodes))\n",
        "    return true_edge_data_by_type, false_edge_data_by_type\n",
        "\n",
        "def load_node_type(f_name):\n",
        "    print('Loading node type from:', f_name)\n",
        "    node_type = {}\n",
        "    with open(f_name, 'r') as f:\n",
        "        for line in f:\n",
        "            items = line.strip().split()\n",
        "            node_type[items[0]] = items[1]\n",
        "    return node_type\n",
        "\n",
        "def load_feature_data(f_name):\n",
        "    feature_dic = {}\n",
        "    with open(f_name, 'r') as f:\n",
        "        first = True\n",
        "        for line in f:\n",
        "            if first:\n",
        "                first = False\n",
        "                continue\n",
        "            items = line.strip().split()\n",
        "            feature_dic[items[0]] = items[1:]\n",
        "    return feature_dic\n",
        "\n",
        "def generate_walks(network_data, num_walks, walk_length, schema, file_name, num_workers):\n",
        "    if schema is not None:\n",
        "        node_type = load_node_type(file_name + '/node_type.txt')\n",
        "    else:\n",
        "        node_type = None\n",
        "\n",
        "    all_walks = []\n",
        "    for layer_id, layer_name in enumerate(network_data):\n",
        "        tmp_data = network_data[layer_name]\n",
        "        # start to do the random walk on a layer\n",
        "\n",
        "        layer_walker = RWGraph(get_G_from_edges(tmp_data), node_type, num_workers)\n",
        "        print('Generating random walks for event_num', layer_id)\n",
        "        layer_walks = layer_walker.simulate_walks(num_walks, walk_length, schema=schema)\n",
        "\n",
        "        all_walks.append(layer_walks)\n",
        "\n",
        "    print('Finish generating the walks')\n",
        "\n",
        "    return all_walks\n",
        "\n",
        "def generate_pairs(all_walks, vocab, window_size, num_workers):\n",
        "    pairs = []\n",
        "    skip_window = window_size // 2\n",
        "    for layer_id, walks in enumerate(all_walks):\n",
        "        print('Generating training pairs for event_num', layer_id)\n",
        "        for walk in tqdm(walks):\n",
        "            for i in range(len(walk)):\n",
        "                for j in range(1, skip_window + 1):\n",
        "                    if i - j >= 0:\n",
        "                        pairs.append((vocab[walk[i]].index, vocab[walk[i - j]].index, layer_id))\n",
        "                    if i + j < len(walk):\n",
        "                        pairs.append((vocab[walk[i]].index, vocab[walk[i + j]].index, layer_id))\n",
        "    return pairs\n",
        "\n",
        "def generate_vocab(all_walks):\n",
        "    index2word = []\n",
        "    raw_vocab = defaultdict(int)\n",
        "\n",
        "    for layer_id, walks in enumerate(all_walks):\n",
        "        print('Counting vocab for event_num', layer_id)\n",
        "        for walk in tqdm(walks):\n",
        "            for word in walk:\n",
        "                raw_vocab[word] += 1\n",
        "\n",
        "    vocab = {}\n",
        "    for word, v in iteritems(raw_vocab):\n",
        "        vocab[word] = Vocab(count=v, index=len(index2word))\n",
        "        index2word.append(word)\n",
        "\n",
        "    index2word.sort(key=lambda word: vocab[word].count, reverse=True)\n",
        "    for i, word in enumerate(index2word):\n",
        "        vocab[word].index = i\n",
        "\n",
        "    return vocab, index2word\n",
        "\n",
        "def load_walks(walk_file):\n",
        "    print('Loading walks')\n",
        "    all_walks = []\n",
        "    with open(walk_file, 'r') as f:\n",
        "        for line in f:\n",
        "            content = line.strip().split()\n",
        "            layer_id = int(content[0])\n",
        "            if layer_id >= len(all_walks):\n",
        "                all_walks.append([])\n",
        "            all_walks[layer_id].append(content[1:])\n",
        "    return all_walks\n",
        "\n",
        "def save_walks(walk_file, all_walks):\n",
        "    with open(walk_file, 'w') as f:\n",
        "        for layer_id, walks in enumerate(all_walks):\n",
        "            print('Saving walks for event_num', layer_id)\n",
        "            for walk in tqdm(walks):\n",
        "                f.write(' '.join([str(layer_id)] + [str(x) for x in walk]) + '\\n')\n",
        "\n",
        "def generate(network_data, num_walks, walk_length, schema, file_name, window_size, num_workers, walk_file):\n",
        "    if walk_file is not None:\n",
        "        all_walks = load_walks(walk_file)\n",
        "    else:\n",
        "        all_walks = generate_walks(network_data, num_walks, walk_length, schema, file_name, num_workers)\n",
        "        save_walks(file_name + '/walks.txt', all_walks)\n",
        "    vocab, index2word = generate_vocab(all_walks)\n",
        "    train_pairs = generate_pairs(all_walks, vocab, window_size, num_workers)\n",
        "\n",
        "    return vocab, index2word, train_pairs\n",
        "\n",
        "def generate_neighbors(network_data, vocab, num_nodes, edge_types, neighbor_samples):\n",
        "    edge_type_count = len(edge_types)\n",
        "    neighbors = [[[] for __ in range(edge_type_count)] for _ in range(num_nodes)]\n",
        "    for r in range(edge_type_count):\n",
        "        print('Generating neighbors for event_num', r)\n",
        "        g = network_data[edge_types[r]]\n",
        "        for (x, y) in tqdm(g):\n",
        "            ix = vocab[x].index\n",
        "            iy = vocab[y].index\n",
        "            neighbors[ix][r].append(iy)\n",
        "            neighbors[iy][r].append(ix)\n",
        "        for i in range(num_nodes):\n",
        "            if len(neighbors[i][r]) == 0:\n",
        "                neighbors[i][r] = [i] * neighbor_samples\n",
        "            elif len(neighbors[i][r]) < neighbor_samples:\n",
        "                neighbors[i][r].extend(list(np.random.choice(neighbors[i][r], size=neighbor_samples-len(neighbors[i][r]))))\n",
        "            elif len(neighbors[i][r]) > neighbor_samples:\n",
        "                neighbors[i][r] = list(np.random.choice(neighbors[i][r], size=neighbor_samples))\n",
        "    return neighbors\n",
        "\n",
        "def get_score(local_model, node1, node2):\n",
        "    try:\n",
        "        vector1 = local_model[node1]\n",
        "        vector2 = local_model[node2]\n",
        "        return np.dot(vector1, vector2) / (np.linalg.norm(vector1) * np.linalg.norm(vector2))\n",
        "    except Exception as e:\n",
        "        pass\n",
        "\n",
        "\n",
        "def evaluate(model, true_edges, false_edges):\n",
        "    true_list = list()\n",
        "    prediction_list = list()\n",
        "    true_num = 0\n",
        "    for edge in true_edges:\n",
        "        tmp_score = get_score(model, str(edge[0]), str(edge[1]))\n",
        "        if tmp_score is not None:\n",
        "            true_list.append(1)\n",
        "            prediction_list.append(tmp_score)\n",
        "            true_num += 1\n",
        "\n",
        "    for edge in false_edges:\n",
        "        tmp_score = get_score(model, str(edge[0]), str(edge[1]))\n",
        "        if tmp_score is not None:\n",
        "            true_list.append(0)\n",
        "            prediction_list.append(tmp_score)\n",
        "\n",
        "    sorted_pred = prediction_list[:]\n",
        "    sorted_pred.sort()\n",
        "    threshold = sorted_pred[-true_num]\n",
        "\n",
        "    y_pred = np.zeros(len(prediction_list), dtype=np.int32)\n",
        "    for i in range(len(prediction_list)):\n",
        "        if prediction_list[i] >= threshold:\n",
        "            y_pred[i] = 1\n",
        "\n",
        "    y_true = np.array(true_list)\n",
        "    y_scores = np.array(prediction_list)\n",
        "    ps, rs, _ = precision_recall_curve(y_true, y_scores)\n",
        "    return roc_auc_score(y_true, y_scores), f1_score(y_true, y_pred), auc(rs, ps)"
      ]
    },
    {
      "cell_type": "code",
      "execution_count": 18,
      "metadata": {
        "id": "M3XSwvb5gwAU"
      },
      "outputs": [],
      "source": [
        "import random\n",
        "import multiprocessing\n",
        "\n",
        "from tqdm import tqdm\n",
        "\n",
        "def walk(args):\n",
        "    walk_length, start, schema = args\n",
        "    # Simulate a random walk starting from start node.\n",
        "    rand = random.Random()\n",
        "\n",
        "    if schema:\n",
        "        schema_items = schema.split('-')\n",
        "        assert schema_items[0] == schema_items[-1]\n",
        "\n",
        "    walk = [start]\n",
        "    while len(walk) < walk_length:\n",
        "        cur = walk[-1]\n",
        "        candidates = []\n",
        "        for node in G[cur]:\n",
        "            if schema == '' or node_type[node] == schema_items[len(walk) % (len(schema_items) - 1)]:\n",
        "                candidates.append(node)\n",
        "        if candidates:\n",
        "            walk.append(rand.choice(candidates))\n",
        "        else:\n",
        "            break\n",
        "    return [str(node) for node in walk]\n",
        "\n",
        "def initializer(init_G, init_node_type):\n",
        "    global G\n",
        "    G = init_G\n",
        "    global node_type\n",
        "    node_type = init_node_type\n",
        "\n",
        "class RWGraph():\n",
        "    def __init__(self, nx_G, node_type_arr=None, num_workers=16):\n",
        "        self.G = nx_G\n",
        "        self.node_type = node_type_arr\n",
        "        self.num_workers = num_workers\n",
        "\n",
        "    def node_list(self, nodes, num_walks):\n",
        "        for loop in range(num_walks):\n",
        "            for node in nodes:\n",
        "                yield node\n",
        "\n",
        "    def simulate_walks(self, num_walks, walk_length, schema=None):\n",
        "        all_walks = []\n",
        "        nodes = list(self.G.keys())\n",
        "        random.shuffle(nodes)\n",
        "\n",
        "        if schema is None:\n",
        "            with multiprocessing.Pool(self.num_workers, initializer=initializer, initargs=(self.G, self.node_type)) as pool:\n",
        "                all_walks = list(pool.imap(walk, ((walk_length, node, '') for node in tqdm(self.node_list(nodes, num_walks))), chunksize=256))\n",
        "        else:\n",
        "            schema_list = schema.split(',')\n",
        "            for schema_iter in schema_list:\n",
        "                with multiprocessing.Pool(self.num_workers, initializer=initializer, initargs=(self.G, self.node_type)) as pool:\n",
        "                    walks = list(pool.imap(walk, ((walk_length, node, schema_iter) for node in tqdm(self.node_list(nodes, num_walks)) if schema_iter.split('-')[0] == self.node_type[node]), chunksize=512))\n",
        "                all_walks.extend(walks)\n",
        "\n",
        "        return all_walks"
      ]
    },
    {
      "cell_type": "code",
      "execution_count": 19,
      "metadata": {
        "id": "S2oZQMWj9MG0"
      },
      "outputs": [],
      "source": [
        "class GATNEModel(nn.Module):\n",
        "    def __init__(\n",
        "        self, num_nodes, embedding_size, embedding_u_size, edge_type_count, dim_a, features\n",
        "    ):\n",
        "        super(GATNEModel, self).__init__()\n",
        "        self.num_nodes = num_nodes\n",
        "        self.embedding_size = embedding_size\n",
        "        self.embedding_u_size = embedding_u_size\n",
        "        self.edge_type_count = edge_type_count\n",
        "        self.dim_a = dim_a\n",
        "\n",
        "        self.features = None\n",
        "        if features is not None:\n",
        "            self.features = features\n",
        "            feature_dim = self.features.shape[-1]\n",
        "            self.embed_trans = Parameter(torch.FloatTensor(feature_dim, embedding_size))\n",
        "            self.u_embed_trans = Parameter(torch.FloatTensor(edge_type_count, feature_dim, embedding_u_size))\n",
        "        else:\n",
        "            self.node_embeddings = Parameter(torch.FloatTensor(num_nodes, embedding_size))\n",
        "            self.node_type_embeddings = Parameter(\n",
        "                torch.FloatTensor(num_nodes, edge_type_count, embedding_u_size)\n",
        "            )\n",
        "        self.trans_weights = Parameter(\n",
        "            torch.FloatTensor(edge_type_count, embedding_u_size, embedding_size)\n",
        "        )\n",
        "        self.trans_weights_s1 = Parameter(\n",
        "            torch.FloatTensor(edge_type_count, embedding_u_size, dim_a)\n",
        "        )\n",
        "        self.trans_weights_s2 = Parameter(torch.FloatTensor(edge_type_count, dim_a, 1))\n",
        "\n",
        "        self.reset_parameters()\n",
        "\n",
        "    def reset_parameters(self):\n",
        "        if self.features is not None:\n",
        "            self.embed_trans.data.normal_(std=1.0 / math.sqrt(self.embedding_size))\n",
        "            self.u_embed_trans.data.normal_(std=1.0 / math.sqrt(self.embedding_size))\n",
        "        else:\n",
        "            self.node_embeddings.data.uniform_(-1.0, 1.0)\n",
        "            self.node_type_embeddings.data.uniform_(-1.0, 1.0)\n",
        "        self.trans_weights.data.normal_(std=1.0 / math.sqrt(self.embedding_size))\n",
        "        self.trans_weights_s1.data.normal_(std=1.0 / math.sqrt(self.embedding_size))\n",
        "        self.trans_weights_s2.data.normal_(std=1.0 / math.sqrt(self.embedding_size))\n",
        "\n",
        "    def forward(self, train_inputs, train_types, node_neigh):\n",
        "        if self.features is None:\n",
        "            node_embed = self.node_embeddings[train_inputs]\n",
        "            node_embed_neighbors = self.node_type_embeddings[node_neigh]\n",
        "        else:\n",
        "            node_embed = torch.mm(self.features[train_inputs], self.embed_trans)\n",
        "            node_embed_neighbors = torch.einsum('bijk,akm->bijam', self.features[node_neigh], self.u_embed_trans)\n",
        "        node_embed_tmp = torch.diagonal(node_embed_neighbors, dim1=1, dim2=3).permute(0, 3, 1, 2)\n",
        "        node_type_embed = torch.sum(node_embed_tmp, dim=2)\n",
        "\n",
        "        trans_w = self.trans_weights[train_types]\n",
        "        trans_w_s1 = self.trans_weights_s1[train_types]\n",
        "        trans_w_s2 = self.trans_weights_s2[train_types]\n",
        "\n",
        "        attention = F.softmax(\n",
        "            torch.matmul(\n",
        "                torch.tanh(torch.matmul(node_type_embed, trans_w_s1)), trans_w_s2\n",
        "            ).squeeze(2),\n",
        "            dim=1,\n",
        "        ).unsqueeze(1)\n",
        "        node_type_embed = torch.matmul(attention, node_type_embed)\n",
        "        node_embed = node_embed + torch.matmul(node_type_embed, trans_w).squeeze(1)\n",
        "\n",
        "        last_node_embed = F.normalize(node_embed, dim=1)\n",
        "\n",
        "        return last_node_embed"
      ]
    },
    {
      "cell_type": "code",
      "execution_count": 20,
      "metadata": {
        "id": "k-uhJyhlkpbT"
      },
      "outputs": [],
      "source": [
        "class NSLoss(nn.Module):\n",
        "    def __init__(self, num_nodes, num_sampled, embedding_size):\n",
        "        super(NSLoss, self).__init__()\n",
        "        self.num_nodes = num_nodes\n",
        "        self.num_sampled = num_sampled\n",
        "        self.embedding_size = embedding_size\n",
        "        self.weights = Parameter(torch.FloatTensor(num_nodes, embedding_size))\n",
        "        self.sample_weights = F.normalize(\n",
        "            torch.Tensor(\n",
        "                [\n",
        "                    (math.log(k + 2) - math.log(k + 1)) / math.log(num_nodes + 1)\n",
        "                    for k in range(num_nodes)\n",
        "                ]\n",
        "            ),\n",
        "            dim=0,\n",
        "        )\n",
        "\n",
        "        self.reset_parameters()\n",
        "\n",
        "    def reset_parameters(self):\n",
        "        self.weights.data.normal_(std=1.0 / math.sqrt(self.embedding_size))\n",
        "\n",
        "    def forward(self, input, embs, label):\n",
        "        n = input.shape[0]\n",
        "        log_target = torch.log(\n",
        "            torch.sigmoid(torch.sum(torch.mul(embs, self.weights[label]), 1))\n",
        "        )\n",
        "        negs = torch.multinomial(\n",
        "            self.sample_weights, self.num_sampled * n, replacement=True\n",
        "        ).view(n, self.num_sampled)\n",
        "        noise = torch.neg(self.weights[negs])\n",
        "        sum_log_sampled = torch.sum(\n",
        "            torch.log(torch.sigmoid(torch.bmm(noise, embs.unsqueeze(2)))), 1\n",
        "        ).squeeze()\n",
        "\n",
        "        loss = log_target + sum_log_sampled\n",
        "        return -loss.sum() / n"
      ]
    },
    {
      "cell_type": "code",
      "execution_count": 21,
      "metadata": {
        "id": "zZMjHF4__Xle"
      },
      "outputs": [],
      "source": [
        "def train_model(network_data, feature_dic, feature_name):\n",
        "    vocab, index2word, train_pairs = generate(network_data, walks_per_node, walk_length, schema=None, file_name=save_path, window_size=window_size, num_workers=num_workers, walk_file=None)\n",
        "\n",
        "    edge_types = list(network_data.keys())\n",
        "\n",
        "    num_nodes = len(index2word)\n",
        "    edge_type_count = len(edge_types)\n",
        "    #epochs = epochs\n",
        "    #batch_size = args.batch_size\n",
        "    embedding_size = embedding_dim\n",
        "    embedding_u_size = edge_dim\n",
        "    u_num = edge_type_count\n",
        "    num_sampled = negative_samples\n",
        "    dim_a = att_dim\n",
        "    att_head = 1\n",
        "    #neighbor_samples = neighbor_samples\n",
        "    print(u_num)\n",
        "\n",
        "    device = torch.device(\"cuda:0\" if torch.cuda.is_available() else \"cpu\")\n",
        "\n",
        "    neighbors = generate_neighbors(network_data, vocab, num_nodes, edge_types, neighbor_samples)\n",
        "\n",
        "    features = None\n",
        "    if feature_dic is not None:\n",
        "        feature_dim = len(list(feature_dic.values())[0])\n",
        "        print('feature dimension: ' + str(feature_dim))\n",
        "        features = np.zeros((num_nodes, feature_dim), dtype=np.float32)\n",
        "        for key, value in feature_dic.items():\n",
        "            if key in vocab:\n",
        "                features[vocab[key].index, :] = np.array(value)\n",
        "        features = torch.FloatTensor(features).to(device)\n",
        "\n",
        "    model = GATNEModel(\n",
        "        num_nodes, embedding_size, embedding_u_size, edge_type_count, dim_a, features\n",
        "    )\n",
        "    nsloss = NSLoss(num_nodes, num_sampled, embedding_size)\n",
        "\n",
        "    model.to(device)\n",
        "    nsloss.to(device)\n",
        "\n",
        "    optimizer = torch.optim.Adam(\n",
        "        [{\"params\": model.parameters()}, {\"params\": nsloss.parameters()}], lr=1e-4\n",
        "    )\n",
        "\n",
        "    print(f'Beginning training for {feature_name} model')\n",
        "\n",
        "    best_score = 0\n",
        "    test_score = (0.0, 0.0, 0.0)\n",
        "    patience = 0\n",
        "    for epoch in range(epochs):\n",
        "        random.shuffle(train_pairs)\n",
        "        batches = get_batches(train_pairs, neighbors, batch_size)\n",
        "\n",
        "        data_iter = tqdm(\n",
        "            batches,\n",
        "            desc=\"epoch %d\" % (epoch),\n",
        "            total=(len(train_pairs) + (batch_size - 1)) // batch_size,\n",
        "            bar_format=\"{l_bar}{r_bar}\",\n",
        "        )\n",
        "        avg_loss = 0.0\n",
        "\n",
        "        for i, data in enumerate(data_iter):\n",
        "            optimizer.zero_grad()\n",
        "            embs = model(data[0].to(device), data[2].to(device), data[3].to(device),)\n",
        "            loss = nsloss(data[0].to(device), embs, data[1].to(device))\n",
        "            loss.backward()\n",
        "            optimizer.step()\n",
        "\n",
        "            avg_loss += loss.item()\n",
        "\n",
        "            if i % 5000 == 0:\n",
        "                post_fix = {\n",
        "                    \"epoch\": epoch,\n",
        "                    \"iter\": i,\n",
        "                    \"avg_loss\": avg_loss / (i + 1),\n",
        "                    \"loss\": loss.item(),\n",
        "                }\n",
        "                data_iter.write(str(post_fix))\n",
        "\n",
        "        final_model = dict(zip(edge_types, [dict() for _ in range(edge_type_count)]))\n",
        "\n",
        "        #initialize embeddings of all zeros\n",
        "        final_embeddings = np.zeros((num_nodes, embedding_dim * u_num))\n",
        "\n",
        "        for i in range(num_nodes):\n",
        "            train_inputs = torch.tensor([i for _ in range(edge_type_count)]).to(device)\n",
        "            train_types = torch.tensor(list(range(edge_type_count))).to(device)\n",
        "            node_neigh = torch.tensor(\n",
        "                [neighbors[i] for _ in range(edge_type_count)]\n",
        "            ).to(device)\n",
        "            node_emb = model(train_inputs, train_types, node_neigh)\n",
        "            for j in range(edge_type_count):\n",
        "                final_model[edge_types[j]][index2word[i]] = (\n",
        "                    node_emb[j].cpu().detach().numpy()\n",
        "                )\n",
        "\n",
        "                #concatenate and save embeddings\n",
        "                #where i loop is over the drugs (572)\n",
        "                #and j loop is over the event_num (65)\n",
        "                #concatenated_embeddings = torch.cat([node_emb[j].cpu().detach() for j in range(u_num)], dim=1)\n",
        "                #final_embeddings[i, :] = concatenated_embeddings\n",
        "\n",
        "        valid_aucs, valid_f1s, valid_prs = [], [], []\n",
        "        test_aucs, test_f1s, test_prs = [], [], []\n",
        "        for i in range(edge_type_count):\n",
        "            if eval_type == \"all\":\n",
        "                tmp_auc, tmp_f1, tmp_pr = evaluate(\n",
        "                    final_model[edge_types[i]],\n",
        "                    valid_true_data_by_edge[edge_types[i]],\n",
        "                    valid_false_data_by_edge[edge_types[i]],\n",
        "                )\n",
        "                valid_aucs.append(tmp_auc)\n",
        "                valid_f1s.append(tmp_f1)\n",
        "                valid_prs.append(tmp_pr)\n",
        "\n",
        "                tmp_auc, tmp_f1, tmp_pr = evaluate(\n",
        "                    final_model[edge_types[i]],\n",
        "                    testing_true_data_by_edge[edge_types[i]],\n",
        "                    testing_false_data_by_edge[edge_types[i]],\n",
        "                )\n",
        "                test_aucs.append(tmp_auc)\n",
        "                test_f1s.append(tmp_f1)\n",
        "                test_prs.append(tmp_pr)\n",
        "        print(\"valid auc:\", np.mean(valid_aucs))\n",
        "        print(\"valid pr:\", np.mean(valid_prs))\n",
        "        print(\"valid f1:\", np.mean(valid_f1s))\n",
        "\n",
        "        average_auc = np.mean(test_aucs)\n",
        "        average_f1 = np.mean(test_f1s)\n",
        "        average_pr = np.mean(test_prs)\n",
        "\n",
        "        cur_score = np.mean(valid_aucs)\n",
        "        if cur_score > best_score:\n",
        "            best_score = cur_score\n",
        "            test_score = (average_auc, average_f1, average_pr)\n",
        "            patience = 0\n",
        "        else:\n",
        "            patience += 1\n",
        "            if patience > patience_num:\n",
        "                print(\"Early Stopping\")\n",
        "                break\n",
        "    return test_score, final_model #final_embeddings"
      ]
    },
    {
      "cell_type": "code",
      "execution_count": 22,
      "metadata": {
        "id": "29UlzqPoUPFm"
      },
      "outputs": [],
      "source": [
        "file_name = '/content'\n",
        "\n",
        "graph_test_scores = {}\n",
        "graph_models = {}"
      ]
    },
    {
      "cell_type": "code",
      "execution_count": 23,
      "metadata": {
        "id": "c8l4YvKI0qHg"
      },
      "outputs": [],
      "source": [
        "if TRAIN_GNN:\n",
        "    for name, matrix in feature_matrices.items():\n",
        "        #check if we've already processed this matrix (useful for colab limits)\n",
        "        if graph_models.get(name) is None:\n",
        "            matrix_filepath = save_path + f'/{name}.txt'\n",
        "            feature_dic = load_feature_data(matrix_filepath)\n",
        "            #log_name = f'{name}_log'\n",
        "\n",
        "            #load the train and test files using the helper functions\n",
        "            training_data_by_type = load_training_data(file_name + '/train.txt')\n",
        "            valid_true_data_by_edge, valid_false_data_by_edge = load_testing_data(file_name + '/valid.txt')\n",
        "            testing_true_data_by_edge, testing_false_data_by_edge = load_testing_data(file_name + '/test.txt')\n",
        "\n",
        "            #Obtain model outputs and print results\n",
        "            graph_test_scores[name], graph_models[name] = train_model(training_data_by_type, feature_dic, name)\n",
        "            average_auc, average_f1, average_pr = graph_test_scores[name]\n",
        "\n",
        "            print(f'Test Scores for {name} model:')\n",
        "            print(f'AUC: {average_auc}')\n",
        "            print(f'f1: {average_f1}')\n",
        "            print(f'pr: {average_pr}')\n",
        "    else:\n",
        "        pass"
      ]
    },
    {
      "cell_type": "code",
      "execution_count": 24,
      "metadata": {
        "id": "BunDFBr1SEpp"
      },
      "outputs": [],
      "source": [
        "if TRAIN_GNN:\n",
        "    graph_embeddings = {}\n",
        "    #Convert \"model\" (the embeddings we're actually after) into their\n",
        "    #concatenated form\n",
        "\n",
        "    for name in graph_models:\n",
        "        embedding_matrix = np.zeros((572, event_num * embedding_dim))\n",
        "\n",
        "        # Process the embeddings\n",
        "        for event_number, drug_embedding in graph_models[name].items():\n",
        "            for drug_num, embedding in drug_embedding.items():\n",
        "                drug_index = int(drug_num)\n",
        "                event_index = int(event_number)\n",
        "                start_index = event_index * embedding_dim\n",
        "                end_index = start_index + embedding_dim\n",
        "                embedding_matrix[drug_index, start_index:end_index] = embedding\n",
        "\n",
        "        graph_embeddings[name] = pd.DataFrame(embedding_matrix)\n",
        "        graph_embeddings[name].to_csv(f'{name}_drug_embedding_matrix.csv', index=False, header=False)"
      ]
    },
    {
      "cell_type": "code",
      "execution_count": 25,
      "metadata": {
        "id": "BzUnqxMutbEi"
      },
      "outputs": [],
      "source": [
        "#save the files locally to run overnight\n",
        "if TRAIN_GNN and DOWNLOAD_MODELS:\n",
        "    for name, df in graph_embeddings.items():\n",
        "        filename = f'{name}_drug_embedding_matrix.csv'\n",
        "        df.to_csv(filename, index=False, header=False)\n",
        "        files.download(filename)\n"
      ]
    },
    {
      "cell_type": "code",
      "execution_count": 26,
      "metadata": {
        "id": "_awkcZJFDWJQ"
      },
      "outputs": [],
      "source": [
        "#Reload created matrices into specified dataframes to remain consistent with other generated output\n",
        "if TRAIN_GNN:\n",
        "    enzyme_df = pd.read_csv('/content/enzyme_drug_embedding_matrix.csv', header=None)\n",
        "    target_df = pd.read_csv('/content/target_drug_embedding_matrix.csv', header=None)\n",
        "    substructure_df = pd.read_csv('/content/substructure_drug_embedding_matrix.csv', header=None)\n",
        "    pathway_df = pd.read_csv('/content/pathway_drug_embedding_matrix.csv', header=None)"
      ]
    },
    {
      "cell_type": "markdown",
      "metadata": {
        "id": "OhkVgnc6C-C4"
      },
      "source": [
        "# OR load pre-calculated graph embeddings"
      ]
    },
    {
      "cell_type": "code",
      "execution_count": 27,
      "metadata": {
        "colab": {
          "base_uri": "https://localhost:8080/"
        },
        "id": "oQS_-pHyDBRW",
        "outputId": "5d87b02f-b16f-4813-ba91-9ca48accc798"
      },
      "outputs": [
        {
          "output_type": "stream",
          "name": "stdout",
          "text": [
            "drug embedding matrices of shape (572, 2080)\n",
            "enzyme_df:\n",
            "       0         1         2         3         4         5         6     \\\n",
            "0 -0.134519  0.072731 -0.115689  0.277850  0.144056 -0.133885  0.308257   \n",
            "1 -0.109487  0.066786 -0.079493  0.308510  0.124736 -0.145775  0.332964   \n",
            "2 -0.132088  0.068527 -0.115999  0.259763  0.158878 -0.143569  0.297094   \n",
            "3 -0.159063  0.096467 -0.104562  0.270554  0.095969 -0.096957  0.346782   \n",
            "4 -0.152987  0.105926 -0.121674  0.257951  0.136562 -0.107454  0.326656   \n",
            "\n",
            "       7         8         9     ...      2070      2071      2072      2073  \\\n",
            "0 -0.310177  0.206568  0.108368  ... -0.124596 -0.228497 -0.173285  0.108145   \n",
            "1 -0.368566  0.170503  0.125484  ... -0.169279 -0.275377 -0.195528  0.198414   \n",
            "2 -0.312255  0.209851  0.109100  ... -0.231555 -0.091012 -0.198595  0.178463   \n",
            "3 -0.288660  0.191809  0.155859  ... -0.196904 -0.088627 -0.151063  0.249412   \n",
            "4 -0.318284  0.189763  0.123710  ... -0.199105 -0.148257 -0.155831  0.144903   \n",
            "\n",
            "       2074      2075      2076      2077      2078      2079  \n",
            "0  0.052556  0.215397  0.232702  0.218229 -0.138810  0.075627  \n",
            "1  0.097195  0.162891  0.159958  0.200088 -0.053234  0.073277  \n",
            "2  0.021500  0.201109  0.208146  0.320981 -0.154805 -0.031278  \n",
            "3  0.062355  0.151784  0.216462  0.306754 -0.119441 -0.087501  \n",
            "4  0.042037  0.161662  0.210805  0.223754 -0.107137 -0.008153  \n",
            "\n",
            "[5 rows x 2080 columns]\n"
          ]
        }
      ],
      "source": [
        "if not TRAIN_GNN:\n",
        "    urls = {}\n",
        "    if USE_GIVEN_DATA:\n",
        "        urls['enzyme_embedding_matrix'] = 'https://raw.githubusercontent.com/NealRyan/Drug-drug-interaction-modeling/main/Data/Embedding%20Matrices/enzyme_drug_embedding_matrix.csv'\n",
        "        urls['target_embedding_matrix'] = 'https://raw.githubusercontent.com/NealRyan/Drug-drug-interaction-modeling/main/Data/Embedding%20Matrices/target_drug_embedding_matrix.csv'\n",
        "        urls['substructure_embedding_matrix'] = 'https://raw.githubusercontent.com/NealRyan/Drug-drug-interaction-modeling/main/Data/Embedding%20Matrices/substructure_drug_embedding_matrix.csv'\n",
        "        urls['pathway_embedding_matrix'] = 'https://raw.githubusercontent.com/NealRyan/Drug-drug-interaction-modeling/main/Data/Embedding%20Matrices/pathway_drug_embedding_matrix.csv'\n",
        "    else:\n",
        "        urls['enzyme_embedding_matrix'] = 'https://raw.githubusercontent.com/NealRyan/Drug-drug-interaction-modeling/main/Data/Embedding%20Matrices/raw_data_enzyme_drug_embedding_matrix.csv'\n",
        "        urls['target_embedding_matrix'] = 'https://raw.githubusercontent.com/NealRyan/Drug-drug-interaction-modeling/main/Data/Embedding%20Matrices/raw_data_target_drug_embedding_matrix.csv'\n",
        "        urls['substructure_embedding_matrix'] = 'https://raw.githubusercontent.com/NealRyan/Drug-drug-interaction-modeling/main/Data/Embedding%20Matrices/raw_data_substructure_drug_embedding_matrix.csv'\n",
        "        urls['pathway_embedding_matrix'] = 'https://raw.githubusercontent.com/NealRyan/Drug-drug-interaction-modeling/main/Data/Embedding%20Matrices/raw_data_pathway_drug_embedding_matrix.csv'\n",
        "\n",
        "    embedding_matrices = {}\n",
        "\n",
        "    for key, url in urls.items():\n",
        "        embedding_matrices[key] = pd.read_csv(url, header=None)\n",
        "\n",
        "\n",
        "    enzyme_df = embedding_matrices['enzyme_embedding_matrix']\n",
        "    target_df = embedding_matrices['target_embedding_matrix']\n",
        "    substructure_df = embedding_matrices['substructure_embedding_matrix']\n",
        "    pathway_df = embedding_matrices['pathway_embedding_matrix']\n",
        "\n",
        "    print(f'drug embedding matrices of shape {enzyme_df.shape}')\n",
        "    print('enzyme_df:')\n",
        "    print(enzyme_df.head())"
      ]
    },
    {
      "cell_type": "markdown",
      "metadata": {
        "id": "p7mNBTTWk7cQ"
      },
      "source": [
        "## Model\n",
        "\n",
        "#### Prepare for Neural Network\n",
        "\n",
        "We currently have a 572x2080 drug embedding matrix for each of the four properties we are using to help us predict if two drugs will interact (enzyme, pathway, substructure, and target). For each embedding matrix, we need to take a slice horizontally to represent the drug with all its graph embedded event information (dimension 1x2080). This vector contains all the graph's embedded knowledge for ONE PARTICULAR drug. As this is a drug-drug interaction task, that won't quite be enough, so we now need to combine it with the other drug vector in our drug pair to create the feature vectors for our neural network. We do this by elementwise multiplication of the vectors such that the end result will still be 1x2080.\n",
        "\n",
        "#### Model Architecture\n",
        "\n",
        "Replicating the paper, we will utilize a network with the architecture:\n",
        "\n",
        "| Layer               | Input Dim | Output Dim | Activation Function | Dropout Rate |\n",
        "| --------            | --------- | ---------- | ------------------- | ------------ |\n",
        "| Linear              | 2080      | 512        | ReLU                |              |\n",
        "| Batch Normalization | 512       |            |                     |              |\n",
        "| Dropout             |           |            |                     | 0.3          |\n",
        "| Linear              | 512       | 256        | ReLU                |              |\n",
        "| Batch Normalization | 256       |            |                     |              |\n",
        "| Dropout             |           |            |                     | 0.3          |\n",
        "| Linear              | 256       | 65         |                     |              |\n",
        "\n",
        "\n",
        "Separate networks will be instantiated for each of the four features, and each network outputs a probability vector across the 66 different interactions. We then take the average of the four vectors to obtain the final probability vector (with values from 0-1) of dimensions 1x66 (65+1, where the first index is for no interaction, and the other indices represent a reaction at that event_num+1).\n"
      ]
    },
    {
      "cell_type": "code",
      "execution_count": 28,
      "metadata": {
        "id": "phEzhS_4xjKG"
      },
      "outputs": [],
      "source": [
        "#Dataset for training cases\n",
        "class DrugInteractionDataset(Dataset):\n",
        "    def __init__(self, df, matrix):\n",
        "        self.matrix = torch.tensor(matrix.values, dtype=torch.float32)\n",
        "        self.df = df\n",
        "\n",
        "    def __len__(self):\n",
        "        return len(self.df)\n",
        "\n",
        "    def __getitem__(self, idx):\n",
        "        row = self.df.iloc[idx]\n",
        "        drug1_idx, drug2_idx, event_number = int(row['drug1']), int(row['drug2']), int(row['event_num'])\n",
        "\n",
        "        #Create feature vector from the embeddings\n",
        "        feature_vector = self.matrix[drug1_idx] * self.matrix[drug2_idx]\n",
        "\n",
        "        #Create label tensor with a 1 at the index of event_num+1\n",
        "        #Where a label at 0 indicates no interaction\n",
        "        label = torch.zeros((event_num+1,), dtype=torch.float32)\n",
        "        label[event_number+1] = 1.0\n",
        "\n",
        "        return feature_vector, label\n",
        "\n",
        "#Dataset for test cases\n",
        "class TestInteractionDataset(Dataset):\n",
        "    def __init__(self, df, enzyme_matrix, target_matrix, substructure_matrix, pathway_matrix):\n",
        "        self.df = df\n",
        "        self.enzyme_matrix = torch.tensor(enzyme_matrix.values, dtype=torch.float32)\n",
        "        self.target_matrix = torch.tensor(target_matrix.values, dtype=torch.float32)\n",
        "        self.substructure_matrix = torch.tensor(substructure_matrix.values, dtype=torch.float32)\n",
        "        self.pathway_matrix = torch.tensor(pathway_matrix.values, dtype=torch.float32)\n",
        "\n",
        "    def __len__(self):\n",
        "        return len(self.df)\n",
        "\n",
        "    def __getitem__(self, idx):\n",
        "        row = self.df.iloc[idx]\n",
        "        drug1_idx, drug2_idx, event_number, interaction = (\n",
        "            int(row['drug1']),\n",
        "            int(row['drug2']),\n",
        "            int(row['event_num']),\n",
        "            int(row['interaction'])\n",
        "        )\n",
        "\n",
        "        # Create feature vectors from the embeddings\n",
        "        enzyme_feature_vector = self.enzyme_matrix[drug1_idx] * self.enzyme_matrix[drug2_idx]\n",
        "        target_feature_vector = self.target_matrix[drug1_idx] * self.target_matrix[drug2_idx]\n",
        "        substructure_feature_vector = self.substructure_matrix[drug1_idx] * self.substructure_matrix[drug2_idx]\n",
        "        pathway_feature_vector = self.pathway_matrix[drug1_idx] * self.pathway_matrix[drug2_idx]\n",
        "\n",
        "        #Create label tensor as a 66-dimensional zero tensor\n",
        "        #65+1 to include the no reaction case\n",
        "        label = torch.zeros(event_num+1, dtype=torch.float32)\n",
        "        # Set to 1 at the event_num index if interaction is 1\n",
        "        if interaction == 1:\n",
        "            label[event_number+1] = 1.0\n",
        "        else:\n",
        "            label[0] = 1.0\n",
        "\n",
        "        return (enzyme_feature_vector,\n",
        "                target_feature_vector,\n",
        "                substructure_feature_vector,\n",
        "                pathway_feature_vector), label"
      ]
    },
    {
      "cell_type": "markdown",
      "metadata": {
        "id": "5-apZNp8k7cQ"
      },
      "source": [
        "#### Data loaders: Dense Neural Network\n",
        "\n",
        "As the neural network outputs a 1x66 dimensional output vectors (that represent interaction or not over 65 event types with one dimension to predict no interaction), the labels will also need to be 66 dim vectors.\n",
        "\n",
        "The logic for training data is to just make a zeros tensor and one-hot encode the tensor at the event_num+1 in the training data\n",
        "\n",
        "The logic for testing data is very similar to training. We start with zeros tensors for each of the four matrices (as the test will combine the output of all four models). If interaction = 1 we then one-hot encode at the index of event_num+1. All four tensors are then passed back."
      ]
    },
    {
      "cell_type": "code",
      "execution_count": 29,
      "metadata": {
        "id": "_jn3obatIgcU"
      },
      "outputs": [],
      "source": [
        "nn_batch_size = 128\n",
        "\n",
        "test_dataset = TestInteractionDataset(test_df, enzyme_df, target_df, substructure_df, pathway_df)\n",
        "\n",
        "# Data loaders\n",
        "enzyme_train_loader = DataLoader(DrugInteractionDataset(train_df, enzyme_df), batch_size=nn_batch_size, shuffle=True)\n",
        "target_train_loader = DataLoader(DrugInteractionDataset(train_df, target_df), batch_size=nn_batch_size, shuffle=True)\n",
        "substructure_train_loader = DataLoader(DrugInteractionDataset(train_df, substructure_df), batch_size=nn_batch_size, shuffle=True)\n",
        "pathway_train_loader = DataLoader(DrugInteractionDataset(train_df, pathway_df), batch_size=nn_batch_size, shuffle=True)\n",
        "\n",
        "test_loader = DataLoader(test_dataset, batch_size=nn_batch_size, shuffle=False)"
      ]
    },
    {
      "cell_type": "markdown",
      "source": [
        "##### Model Implementation"
      ],
      "metadata": {
        "id": "AIQx67fr5YI9"
      }
    },
    {
      "cell_type": "code",
      "execution_count": 30,
      "metadata": {
        "id": "LeH3-GwoPj5y"
      },
      "outputs": [],
      "source": [
        "layer_1_dim = 512  #Default 512\n",
        "layer_2_dim = 256 #Default 256\n",
        "input_dim = embedding_dim * event_num # DO NOT CHANGE\n",
        "output_dim = event_num+1 # DO NOT CHANGE\n",
        "dropout = 0.3 #Default 0.3\n",
        "learning_rate = 0.001 #Default 0.001 in Keras (what the paper uses)\n",
        "num_epochs = 100 #Default 100\n",
        "patience = 10 #Default 10\n",
        "cross_fold_value = 5 #Default 5\n",
        "state = 0 #random state for cross fold validation"
      ]
    },
    {
      "cell_type": "code",
      "execution_count": 31,
      "metadata": {
        "id": "N35HQe2eOV8p"
      },
      "outputs": [],
      "source": [
        "class DrugInteractionNetwork(nn.Module):\n",
        "    def __init__(self, input_dim, output_dim):\n",
        "        super(DrugInteractionNetwork, self).__init__()\n",
        "\n",
        "        self.fc1 = nn.Linear(input_dim, layer_1_dim)\n",
        "        self.bn1 = nn.BatchNorm1d(num_features=layer_1_dim)\n",
        "        self.dropout1 = nn.Dropout(dropout)\n",
        "\n",
        "        self.fc2 = nn.Linear(layer_1_dim, layer_2_dim)\n",
        "        self.bn2 = nn.BatchNorm1d(num_features=layer_2_dim)\n",
        "        self.dropout2 = nn.Dropout(dropout)\n",
        "\n",
        "        self.fc3 = nn.Linear(layer_2_dim, output_dim)\n",
        "\n",
        "    def forward(self, x):\n",
        "        x = F.relu(self.fc1(x))\n",
        "        x = self.bn1(x)\n",
        "        x = self.dropout1(x)\n",
        "\n",
        "        x = F.relu(self.fc2(x))\n",
        "        x = self.bn2(x)\n",
        "        x = self.dropout2(x)\n",
        "\n",
        "        x = self.fc3(x)\n",
        "        #x = F.softmax(x)\n",
        "        return x"
      ]
    },
    {
      "cell_type": "markdown",
      "source": [
        "## Training\n",
        "\n",
        "#### Training Objectives\n",
        "\n",
        "We will be using an Adam optimizer, due to it's robustness against untuned hyperparameters (as the paper doesn't tune parameters extensively). We will use a learning rate of *0.001*, optimizing CrossEntropyLoss as this is a multi-class problem.\n",
        "\n",
        "We will be using 5-cross-fold validation.\n",
        "\n",
        "#### Model Pretraining / Computation Requirements\n",
        "\n",
        "Since we are training four separate models, we have pretrained these models and stored in our Github. Based on the notebook configuration (at the top of this notebook), models may be pulled from Github or trainned locally.\n",
        "\n",
        "If you do opt to train, we recommend using an NVIDIA A10G GPU, which takes roughly 7 minutes per epoch (~105 iterations/s with batch size 128). It will take a maximum ~12hrs to complete a full training iteration of up to 100 epochs. The paper employs early stopping to prevent overfitting, so 100 epochs is an upper bound on training time.\n"
      ],
      "metadata": {
        "id": "ONUWOgMtuJuq"
      }
    },
    {
      "cell_type": "code",
      "execution_count": 32,
      "metadata": {
        "id": "f71G2ob71cq8"
      },
      "outputs": [],
      "source": [
        "enzyme_model = DrugInteractionNetwork(input_dim, output_dim).to(device)\n",
        "target_model = DrugInteractionNetwork(input_dim, output_dim).to(device)\n",
        "substructure_model = DrugInteractionNetwork(input_dim, output_dim).to(device)\n",
        "pathway_model = DrugInteractionNetwork(input_dim, output_dim).to(device)\n",
        "\n",
        "enzyme_optimizer = optim.Adam(enzyme_model.parameters(), lr=learning_rate)\n",
        "target_optimizer = optim.Adam(target_model.parameters(), lr=learning_rate)\n",
        "substructure_optimizer = optim.Adam(substructure_model.parameters(), lr=learning_rate)\n",
        "pathway_optimizer = optim.Adam(pathway_model.parameters(), lr=learning_rate)\n",
        "\n",
        "# Define the loss function\n",
        "criterion = torch.nn.CrossEntropyLoss()\n",
        "\n",
        "#create a dictionary of models and their corresponding data loaders and optimizers to aid in training loop\n",
        "models_loaders_optimizers = {\n",
        "    'enzyme_model': (enzyme_model, enzyme_train_loader, enzyme_optimizer),\n",
        "    'target_model': (target_model, target_train_loader, target_optimizer),\n",
        "    'substructure_model': (substructure_model, substructure_train_loader, substructure_optimizer),\n",
        "    'pathway_model': (pathway_model, pathway_train_loader, pathway_optimizer),\n",
        "}\n"
      ]
    },
    {
      "cell_type": "code",
      "execution_count": 33,
      "metadata": {
        "id": "-jLJaKPKQx3V"
      },
      "outputs": [],
      "source": [
        "if TRAIN_DNN:\n",
        "    kfold = KFold(n_splits=cross_fold_value, shuffle=True, random_state=state)\n",
        "\n",
        "    for model_name, (model, train_loader, optimizer) in models_loaders_optimizers.items():\n",
        "        print(f\"Training {model_name} with {cross_fold_value}-fold cross-validation\")\n",
        "\n",
        "        overall_best_loss = float('inf')\n",
        "        overall_best_model_path = f'./{model_name}_best_model.pth'\n",
        "\n",
        "        #split training data into k-folds\n",
        "        for fold, (train_idx, valid_idx) in enumerate(kfold.split(np.arange(len(train_loader.dataset))), 1):\n",
        "            print(f\"Fold {fold}/{cross_fold_value}\")\n",
        "\n",
        "            #create subsets for the current fold's training and validation data\n",
        "            train_subset = torch.utils.data.Subset(train_loader.dataset, train_idx)\n",
        "            valid_subset = torch.utils.data.Subset(train_loader.dataset, valid_idx)\n",
        "\n",
        "            #create data loaders for the current fold's training and validation subsets\n",
        "            train_subset_loader = DataLoader(train_subset, batch_size=32, shuffle=True)\n",
        "            valid_subset_loader = DataLoader(valid_subset, batch_size=32, shuffle=False)\n",
        "\n",
        "            fold_best_loss = float('inf')\n",
        "            loss_increase_count = 0  # Reset the early stopping count for each fold\n",
        "\n",
        "            #main training loop for the current fold\n",
        "            for epoch in range(num_epochs):\n",
        "                model.train()\n",
        "                running_loss = 0.0\n",
        "                for inputs, labels in train_subset_loader:\n",
        "                    inputs, labels = inputs.to(device), labels.to(device)\n",
        "                    optimizer.zero_grad()\n",
        "                    train_outputs = model(inputs)\n",
        "\n",
        "                    #convert one hot encoded label to single event_num\n",
        "                    train_label_index = labels.max(dim=1)[1]\n",
        "\n",
        "                    loss = criterion(train_outputs, train_label_index)\n",
        "                    loss.backward()\n",
        "                    optimizer.step()\n",
        "                    running_loss += loss.item()\n",
        "\n",
        "                #calculate validation loss for the current fold and epoch\n",
        "                validation_loss = 0.0\n",
        "                model.eval()\n",
        "                with torch.no_grad():\n",
        "                    for inputs, labels in valid_subset_loader:\n",
        "                        inputs, labels = inputs.to(device), labels.to(device)\n",
        "                        validation_outputs = model(inputs)\n",
        "\n",
        "                        #convert one hot encoded label to single event_num\n",
        "                        validation_label_index = labels.max(dim=1)[1]\n",
        "\n",
        "                        validation_loss += criterion(validation_outputs, validation_label_index).item()\n",
        "\n",
        "                validation_loss /= len(valid_subset_loader)\n",
        "                print(f'[{model_name}] Fold {fold}/{cross_fold_value}, Epoch {epoch + 1}/{num_epochs}, Validation Loss: {validation_loss}')\n",
        "\n",
        "                #check for improvement and implement early stopping if needed\n",
        "                if validation_loss < fold_best_loss:\n",
        "                    fold_best_loss = validation_loss\n",
        "                    loss_increase_count = 0  #reset count if there is an improvement\n",
        "                    if fold_best_loss < overall_best_loss:\n",
        "                        overall_best_loss = fold_best_loss\n",
        "                        torch.save(model.state_dict(), overall_best_model_path)\n",
        "                else:\n",
        "                    loss_increase_count += 1  #increase count if no improvement\n",
        "                    if loss_increase_count >= patience:\n",
        "                        print(f'[{model_name}] Fold {fold}, Stopping early at epoch {epoch + 1}')\n",
        "                        break\n",
        "\n",
        "        print(f'Finished Training {model_name} with cross-validation')\n",
        "        print(f'Best model saved to {overall_best_model_path}')"
      ]
    },
    {
      "cell_type": "code",
      "execution_count": 34,
      "metadata": {
        "id": "L662tf0i4tgy"
      },
      "outputs": [],
      "source": [
        "if TRAIN_DNN:\n",
        "    #load the best models found from cross validation\n",
        "    enzyme_model.load_state_dict(torch.load('./enzyme_model_best_model.pth'))\n",
        "    target_model.load_state_dict(torch.load('./target_model_best_model.pth'))\n",
        "    substructure_model.load_state_dict(torch.load('./substructure_model_best_model.pth'))\n",
        "    pathway_model.load_state_dict(torch.load('./pathway_model_best_model.pth'))\n",
        "\n",
        "    #save the files locally to run overnight\n",
        "    if DOWNLOAD_MODELS:\n",
        "      files.download('./enzyme_model_best_model.pth')\n",
        "      files.download('./target_model_best_model.pth')\n",
        "      files.download('./substructure_model_best_model.pth')\n",
        "      files.download('./pathway_model_best_model.pth')"
      ]
    },
    {
      "cell_type": "markdown",
      "source": [
        "# OR load best trained models"
      ],
      "metadata": {
        "id": "f2Fv8i3tPPD6"
      }
    },
    {
      "cell_type": "code",
      "source": [
        "if not TRAIN_DNN:\n",
        "    map_location = 'cpu'\n",
        "\n",
        "    model_paths = {\n",
        "        'enzyme': '/content/enzyme_model_best_model.pth',\n",
        "        'target': '/content/target_model_best_model.pth',\n",
        "        'substructure': '/content/substructure_model_best_model.pth',\n",
        "        'pathway': '/content/pathway_model_best_model.pth',\n",
        "    }\n",
        "\n",
        "    #load the best models found from cross validation\n",
        "    if not USE_GIVEN_DATA:\n",
        "        for key, val in model_paths.items():\n",
        "            model_paths[key] = val.replace('/content/','/content/raw_data_')\n",
        "\n",
        "    enzyme_model.load_state_dict(torch.load(model_paths['enzyme'], map_location=map_location))\n",
        "    target_model.load_state_dict(torch.load(model_paths['target'], map_location=map_location))\n",
        "    substructure_model.load_state_dict(torch.load(model_paths['substructure'], map_location=map_location))\n",
        "    pathway_model.load_state_dict(torch.load(model_paths['pathway'], map_location=map_location))"
      ],
      "metadata": {
        "id": "CqtB4PVsPcPN"
      },
      "execution_count": 35,
      "outputs": []
    },
    {
      "cell_type": "markdown",
      "metadata": {
        "id": "6frpLobmk7cR"
      },
      "source": [
        "### Evaluation\n",
        "\n",
        "##### Metrics Descriptions\n",
        "\n",
        "The 5 main metrics of accuracy, precision, recall, f1-score, and ROC AUC were used to evaluate the performance of the model. These are 5 standard performance metrics which, when used together, can give a holistic understanding of the model's performance\n",
        "\n",
        "##### Implementation"
      ]
    },
    {
      "cell_type": "code",
      "execution_count": 36,
      "metadata": {
        "id": "y0cjqwQ5J7Lb"
      },
      "outputs": [],
      "source": [
        "def plot_roc_curve(fpr, tpr):\n",
        "    plt.plot(fpr, tpr, color='orange', label='ROC')\n",
        "    plt.plot([0, 1], [0, 1], color='darkblue', linestyle='--')\n",
        "    plt.xlabel('False Positive Rate')\n",
        "    plt.ylabel('True Positive Rate')\n",
        "    plt.title('ROC Curve')\n",
        "    plt.legend()\n",
        "    plt.show()"
      ]
    },
    {
      "cell_type": "markdown",
      "metadata": {
        "id": "5vhrpXuHKy5K"
      },
      "source": [
        "### Test and print metrics and ROC curve"
      ]
    },
    {
      "cell_type": "code",
      "execution_count": 37,
      "metadata": {
        "colab": {
          "base_uri": "https://localhost:8080/"
        },
        "id": "S1m7BpXfAapF",
        "outputId": "c1a85d5d-1e23-4a53-9cf2-9cf6bb51a6a4"
      },
      "outputs": [
        {
          "output_type": "stream",
          "name": "stdout",
          "text": [
            "Accuracy: 0.9168120220045619\n",
            "Precision: 0.9176589113092163\n",
            "Recall: 0.9168120220045619\n",
            "F1 Score: 0.9156332492440433\n",
            "ROC AUC: 0.9987331035216991\n"
          ]
        }
      ],
      "source": [
        "# Set models to evaluation mode\n",
        "enzyme_model.eval()\n",
        "target_model.eval()\n",
        "substructure_model.eval()\n",
        "pathway_model.eval()\n",
        "\n",
        "all_scores = []\n",
        "all_labels = []\n",
        "all_predictions = []\n",
        "\n",
        "with torch.no_grad():\n",
        "    for features, labels in test_loader:\n",
        "        enzyme_features, target_features, substructure_features, pathway_features = features\n",
        "\n",
        "        #set feature vectors and send them to the device\n",
        "        enzyme_features = enzyme_features.to(device)\n",
        "        target_features = target_features.to(device)\n",
        "        substructure_features = substructure_features.to(device)\n",
        "        pathway_features = pathway_features.to(device)\n",
        "\n",
        "        #get model outputs\n",
        "        enzyme_outputs = enzyme_model(enzyme_features)\n",
        "        target_outputs = target_model(target_features)\n",
        "        substructure_outputs = substructure_model(substructure_features)\n",
        "        pathway_outputs = pathway_model(pathway_features)\n",
        "\n",
        "        #manually apply softmax to each output\n",
        "        enzyme_outputs = F.softmax(enzyme_model(enzyme_features), dim=1)\n",
        "        target_outputs = F.softmax(target_model(target_features), dim=1)\n",
        "        substructure_outputs = F.softmax(substructure_model(substructure_features), dim=1)\n",
        "        pathway_outputs = F.softmax(pathway_model(pathway_features), dim=1)\n",
        "\n",
        "        #create a simple average of the 4 outputs as in the paper\n",
        "        avg_outputs = (enzyme_outputs + target_outputs + substructure_outputs + pathway_outputs) / 4\n",
        "\n",
        "        #find the max as an interaction prediction\n",
        "        #print(avg_outputs)\n",
        "        _, y_pred = torch.max(avg_outputs, dim=1)\n",
        "        #print(y_pred)\n",
        "\n",
        "        #append metrics to their respective containers\n",
        "        all_scores.append(avg_outputs.cpu())\n",
        "        all_predictions.append(y_pred.cpu())\n",
        "        all_labels.append(labels.max(dim=1)[1].cpu())\n",
        "\n",
        "#concatenate and convert to numpy arrays\n",
        "all_scores_tensor = torch.cat(all_scores, dim=0)\n",
        "all_predictions_tensor = torch.cat(all_predictions, dim=0)\n",
        "all_labels_tensor = torch.cat(all_labels, dim=0)\n",
        "\n",
        "all_scores_np = torch.softmax(all_scores_tensor, dim=1).numpy()\n",
        "all_predictions_np = all_predictions_tensor.numpy()\n",
        "all_labels_np = all_labels_tensor.numpy()\n",
        "\n",
        "#Use label_binarize to one hot encode\n",
        "all_labels_one_hot = label_binarize(all_labels_np, classes=np.arange(event_num+1))\n",
        "\n",
        "#calculate metrics\n",
        "average_type = 'weighted'\n",
        "accuracy = accuracy_score(all_labels_np, all_predictions_np)\n",
        "precision = precision_score(all_labels_np, all_predictions_np, average=average_type, zero_division=0)\n",
        "recall = recall_score(all_labels_np, all_predictions_np, average=average_type, zero_division=0)\n",
        "f1 = f1_score(all_labels_np, all_predictions_np, average=average_type )\n",
        "\n",
        "#ROC\n",
        "roc_auc = roc_auc_score(all_labels_one_hot, all_scores_np, average='micro', multi_class='ovr')\n",
        "\n",
        "#print metrics\n",
        "print(f'Accuracy: {accuracy}')\n",
        "print(f'Precision: {precision}')\n",
        "print(f'Recall: {recall}')\n",
        "print(f'F1 Score: {f1}')\n",
        "print(f'ROC AUC: {roc_auc}')"
      ]
    },
    {
      "cell_type": "markdown",
      "metadata": {
        "id": "ip2FFIYO8mS8"
      },
      "source": [
        "## Inspect Test Outcome\n"
      ]
    },
    {
      "cell_type": "code",
      "execution_count": 38,
      "metadata": {
        "colab": {
          "base_uri": "https://localhost:8080/",
          "height": 494
        },
        "id": "TRqgQeHlzZUD",
        "outputId": "77557403-6223-4332-c3f9-747a5c147d37"
      },
      "outputs": [
        {
          "output_type": "display_data",
          "data": {
            "text/plain": [
              "<Figure size 1200x500 with 2 Axes>"
            ],
            "image/png": "[encoded data removed]"
          },
          "metadata": {}
        }
      ],
      "source": [
        "fig, axs = plt.subplots(1, 2, figsize=(12, 5), sharey=True)\n",
        "\n",
        "#labels subplot\n",
        "axs[0].hist(all_labels_np, bins=range(int(min(all_labels_np)), int(max(all_labels_np)) + 2), align='left', color='blue', edgecolor='black')\n",
        "axs[0].set_title('Distribution of Labels')\n",
        "axs[0].set_xlabel('event_num (0 means no interaction)')\n",
        "axs[0].set_ylabel('Frequency')\n",
        "\n",
        "#predictions subplot\n",
        "axs[1].hist(all_predictions_np, bins=range(int(min(all_predictions_np)), int(max(all_predictions_np)) + 2), align='left', color='blue', edgecolor='black')\n",
        "axs[1].set_title('Distribution of Predictions')\n",
        "axs[1].set_xlabel('event_num (0 means no interaction)')\n",
        "axs[1].set_ylabel('Frequency')\n",
        "\n",
        "#prevent overlap\n",
        "plt.tight_layout()\n",
        "\n",
        "#plot\n",
        "plt.show()"
      ]
    },
    {
      "cell_type": "code",
      "execution_count": 39,
      "metadata": {
        "colab": {
          "base_uri": "https://localhost:8080/",
          "height": 489
        },
        "id": "UQJL9r-IPFDT",
        "outputId": "f73d3657-0487-489e-c3f9-7332b3a8eaba"
      },
      "outputs": [
        {
          "output_type": "stream",
          "name": "stdout",
          "text": [
            "ROC AUC (One vs Rest): 0.9987331035216991\n"
          ]
        },
        {
          "output_type": "display_data",
          "data": {
            "text/plain": [
              "<Figure size 640x480 with 1 Axes>"
            ],
            "image/png": "[encoded data removed]"
          },
          "metadata": {}
        }
      ],
      "source": [
        "from sklearn.metrics import roc_auc_score, roc_curve, auc\n",
        "import numpy as np\n",
        "import matplotlib.pyplot as plt\n",
        "\n",
        "roc_auc_ovr = roc_auc_score(all_labels_one_hot, all_scores_np, average='micro', multi_class='ovr')\n",
        "print(f'ROC AUC (One vs Rest): {roc_auc_ovr}')\n",
        "\n",
        "#compute micro-average ROC curve and ROC area for plotting\n",
        "fpr, tpr, _ = roc_curve(all_labels_one_hot.ravel(), all_scores_np.ravel())\n",
        "roc_auc = auc(fpr, tpr)\n",
        "\n",
        "#plot\n",
        "plt.figure()\n",
        "plt.plot(fpr, tpr, color='darkorange', lw=2, label='ROC curve (area = %0.2f)' % roc_auc)\n",
        "plt.plot([0, 1], [0, 1], color='navy', lw=2, linestyle='--')\n",
        "plt.xlim([0.0, 1.0])\n",
        "plt.ylim([0.0, 1.05])\n",
        "plt.xlabel('False Positive Rate')\n",
        "plt.ylabel('True Positive Rate')\n",
        "plt.title('ROC Curve')\n",
        "plt.legend(loc=\"lower right\")\n",
        "plt.show()\n"
      ]
    },
    {
      "cell_type": "markdown",
      "metadata": {
        "id": "j16jWKv3k7cW"
      },
      "source": [
        "# Results"
      ]
    },
    {
      "cell_type": "markdown",
      "metadata": {
        "id": "dQ-2Ivtvs1pX"
      },
      "source": [
        "### Evaluation Results\n",
        "\n",
        "As shown above, we were able to replicate the results of the original experimentation with metrics similar to, and in some cases better than the original papers:\n",
        "\n",
        "| Metric    | Our Score | Papers Score |\n",
        "| --------- | --------- | ------------ |\n",
        "| Accuracy  | 0.9168    | 0.9206       |\n",
        "| Precision | 0.9176    | 0.9204       |\n",
        "| Recall    | 0.9168    | 0.8259       |\n",
        "| F1        | 0.9156    | 0.8579       |\n",
        "| Roc_auc   | 0.9987    | 0.9992       |\n",
        "\n",
        "\n",
        "We attribute our better results to our proper construction of the training and testing data, which now contain an even 50-50 split of positive and negative examples. The original code only trained the networks on positive samples, resulting in a skew towards predicting an interaction. This manifested in a lower Recall and F1 score. By training on both positive and negative samples, our models recognized when interactions DON'T occur, not just when they do. This resulted in significantly higher Recall and F1 scores, at the expense of a minor regression in accuracy and precision."
      ]
    },
    {
      "cell_type": "markdown",
      "metadata": {
        "id": "IJX1_-gnk7cW"
      },
      "source": [
        "### Analyses / Discussion\n",
        "\n",
        "##### Reproducability\n",
        "\n",
        "The paper's experiments as provided in the github repository were reproducible but not correct. The paper inproperly generates it's training data resulting in significant leakage between datasets. There is also a disconnect between the feature matrices used in the code compared to waht is described in the paper. The paper also provides many \"checkpoints\" to skip parts of the code, such as pre-computed embeddings. However, modifications to the code were not easy as the repo was highly disorganized, using many undocumented, complex operations.\n",
        "\n",
        "By rewriting the code in PyTorch, we found we could easily reproduce and modify the experiments by the original authors. The work to re-write in PyTorch was nontrivial, easily being the most difficult sections as we had to:\n",
        "* Digest and understand each line of the code, without documentation\n",
        "* Re-create our training data.\n",
        "* Validate that our PyTorch code matched the results of the original experiments.\n",
        "* Modularize the code to make each component individually runable (via feature/flags)\n",
        "* Extract configuration of the various models\n",
        "\n",
        "Once the code was rewritten in PyTorch, downstream experiments, data processing, and analysis was extremely easy. With data in more reachable formats, we could easily:\n",
        "* Implement more in-depth feature analysis and plotting\n",
        "* Modify the configuration of models for later experimentation\n",
        "\n",
        "### Plans\n",
        "\n",
        "Now that the repository code is re-written in both Pytorch and in a modifiable form, we plan to implement the following components of our report:\n",
        "* The hypotheses described in the Scope of Reproducability section\n",
        "    * Hyperparameter Tuning\n",
        "        * Layer Size\n",
        "        * Number of Dense Layers\n",
        "        * Dropout rate\n",
        "    * Replacing Dropout layers with optimizer weight decay\n",
        "    * Replacing Adam Optimizer with SGD\n",
        "    * Removal of dropout layers entirely\n",
        "    * Removal of early stopping\n",
        "    * Combinging the four feedwork networks into 1\n",
        "\n",
        "\n",
        "We will also attempt to optimize our Pytorch code to improve runtime."
      ]
    },
    {
      "cell_type": "markdown",
      "metadata": {
        "id": "_JYHK-M-k7cW"
      },
      "source": [
        "# Citations\n",
        "\n",
        "1. Rohani, N., Eslahchi, C. Drug-Drug Interaction Predicting by Neural Network Using Integrated Similarity. Sci Rep 9, 13645 (2019). https://doi.org/10.1038/s41598-019-50121-3\n",
        "\n",
        "2. Lin, Xuan, et al. \"KGNN: Knowledge Graph Neural Network for Drug-Drug Interaction Prediction.\" IJCAI. Vol. 380. 2020.\n",
        "\n",
        "3. Al-Rabeah, M.H., Lakizadeh, A. Prediction of drug-drug interaction events using graph neural networks based feature extraction. Sci Rep 12, 15590 (2022). https://doi.org/10.1038/s41598-022-19999-4\n",
        "\n",
        "4. Zhang, C., Lu, Y. & Zang, T. CNN-DDI: a learning-based method for predicting drug–drug interactions using convolution neural networks. BMC Bioinformatics 23 (Suppl 1), 88 (2022). https://doi.org/10.1186/s12859-022-04612-2\n",
        "\n",
        "5. Yifan Deng, Xinran Xu, Yang Qiu, Jingbo Xia, Wen Zhang, Shichao Liu, A multimodal deep learning framework for predicting drug–drug interaction events, Bioinformatics, Volume 36, Issue 15, August 2020, Pages 4316–4322, https://doi.org/10.1093/bioinformatics/btaa501\n",
        "\n",
        "6. Cen, Y. et al. Representation learning for attributed multiplex heterogeneous network. In Proceedings of the 25th ACM SIGKDD\n",
        "International Conference on Knowledge Discovery &amp; Data Mining 1358–1368 (Association for Computing Machinery, 2019)."
      ]
    }
  ],
  "metadata": {
    "colab": {
      "provenance": []
    },
    "kernelspec": {
      "display_name": "Python 3",
      "name": "python3"
    },
    "language_info": {
      "name": "python"
    }
  },
  "nbformat": 4,
  "nbformat_minor": 0
}